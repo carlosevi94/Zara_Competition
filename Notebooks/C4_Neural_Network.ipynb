{
 "cells": [
  {
   "cell_type": "markdown",
   "metadata": {},
   "source": [
    "### Descripción del notebook\n",
    "\n",
    "Red Neuronal con los train generados por Rodrigo en los notebooks R1_day y R2_day"
   ]
  },
  {
   "cell_type": "code",
   "execution_count": 1,
   "metadata": {},
   "outputs": [],
   "source": [
    "from warnings import filterwarnings\n",
    "filterwarnings('ignore')"
   ]
  },
  {
   "cell_type": "code",
   "execution_count": 41,
   "metadata": {
    "scrolled": true
   },
   "outputs": [],
   "source": [
    "## import pandas as pd\n",
    "import matplotlib.pyplot as plt\n",
    "import numpy as np\n",
    "import pandas as pd\n",
    "import missingno as msno\n",
    "import scipy as scp\n",
    "import seaborn as sns\n",
    "\n",
    "import datetime \n",
    "\n",
    "# ----\n",
    "import keras\n",
    "from tensorflow.python.keras.models import Sequential\n",
    "from tensorflow.keras.callbacks import EarlyStopping\n",
    "from tensorflow.python.keras.layers import Dense,Dropout\n",
    "\n",
    "from sklearn.model_selection import train_test_split\n",
    "from sklearn.model_selection import cross_val_score\n",
    "from sklearn.model_selection import KFold\n",
    "from sklearn.pipeline import Pipeline\n",
    "from sklearn.preprocessing import MinMaxScaler"
   ]
  },
  {
   "cell_type": "code",
   "execution_count": null,
   "metadata": {},
   "outputs": [],
   "source": []
  },
  {
   "cell_type": "code",
   "execution_count": null,
   "metadata": {},
   "outputs": [],
   "source": []
  },
  {
   "cell_type": "markdown",
   "metadata": {},
   "source": [
    "# Cargar dataframes"
   ]
  },
  {
   "cell_type": "code",
   "execution_count": 4,
   "metadata": {},
   "outputs": [],
   "source": [
    "train = pd.read_csv(\"../data/final_train.csv\")"
   ]
  },
  {
   "cell_type": "code",
   "execution_count": 8,
   "metadata": {},
   "outputs": [],
   "source": [
    "test = pd.read_csv(\"../data/final_test.csv\")"
   ]
  },
  {
   "cell_type": "code",
   "execution_count": 6,
   "metadata": {},
   "outputs": [
    {
     "data": {
      "text/plain": [
       "<matplotlib.axes._subplots.AxesSubplot at 0x7fbe19a87f60>"
      ]
     },
     "execution_count": 6,
     "metadata": {},
     "output_type": "execute_result"
    },
    {
     "data": {
      "image/png": "[encoded data removed]",
      "text/plain": [
       "<Figure size 1800x720 with 2 Axes>"
      ]
     },
     "metadata": {
      "needs_background": "light"
     },
     "output_type": "display_data"
    }
   ],
   "source": [
    "msno.matrix(train)"
   ]
  },
  {
   "cell_type": "markdown",
   "metadata": {},
   "source": [
    "# Neural Network\n",
    "\n",
    "## Select X and Y"
   ]
  },
  {
   "cell_type": "code",
   "execution_count": 17,
   "metadata": {},
   "outputs": [
    {
     "name": "stdout",
     "output_type": "stream",
     "text": [
      "kurtosis_stock_shift1\n",
      "ratio_kurtosis_stock_shift1\n"
     ]
    }
   ],
   "source": [
    "for i in train.columns:\n",
    "    if (train[i].isnull().all()):\n",
    "        print(i)"
   ]
  },
  {
   "cell_type": "code",
   "execution_count": 20,
   "metadata": {},
   "outputs": [],
   "source": [
    "drop_cols = ['sales', 'date_number', 'product_id', 'block_id',\n",
    "             'position_max', 'position_min', 'std_position', 'ratio_std_pos', 'diff_position','kurtosis_stock_shift1','ratio_kurtosis_stock_shift1'\n",
    "            ]\n",
    "\n",
    "X_train = train.loc[:,[c for c in train.columns if c not in drop_cols]]\n",
    "y_train = train[['sales']]\n",
    "X_test = test.loc[:,[c for c in train.columns if c not in drop_cols]]"
   ]
  },
  {
   "cell_type": "code",
   "execution_count": 21,
   "metadata": {},
   "outputs": [],
   "source": [
    "y = np.array(y_train)"
   ]
  },
  {
   "cell_type": "code",
   "execution_count": 22,
   "metadata": {},
   "outputs": [],
   "source": [
    "y = np.reshape(y,(-1,1))"
   ]
  },
  {
   "cell_type": "markdown",
   "metadata": {},
   "source": [
    "## Normalizar/Escalar  X"
   ]
  },
  {
   "cell_type": "markdown",
   "metadata": {},
   "source": [
    "Primero se entrena el escalador/normalizador, para que prepare los rangos, y luego se transforma"
   ]
  },
  {
   "cell_type": "code",
   "execution_count": 24,
   "metadata": {
    "scrolled": true
   },
   "outputs": [
    {
     "name": "stdout",
     "output_type": "stream",
     "text": [
      "MinMaxScaler(copy=True, feature_range=(0, 1))\n"
     ]
    }
   ],
   "source": [
    "scaler = MinMaxScaler()\n",
    "print(scaler.fit(X_train))"
   ]
  },
  {
   "cell_type": "code",
   "execution_count": 26,
   "metadata": {},
   "outputs": [],
   "source": [
    "xscale=scaler.transform(X_train)"
   ]
  },
  {
   "cell_type": "code",
   "execution_count": 30,
   "metadata": {},
   "outputs": [],
   "source": [
    "xscale[np.isnan(xscale)] = -1.0"
   ]
  },
  {
   "cell_type": "markdown",
   "metadata": {},
   "source": [
    "## Train/Test split\n",
    "\n",
    "Este split no es válido ni mucho menos, porque está escogido al azar. Debería cogerlo y splitear en funcion del tiempo, ya que es una serie temporal. O hacer crossvalidacion"
   ]
  },
  {
   "cell_type": "code",
   "execution_count": 31,
   "metadata": {},
   "outputs": [],
   "source": [
    "X_train, X_test, y_train, y_test = train_test_split(xscale, y,test_size=0.25)"
   ]
  },
  {
   "cell_type": "markdown",
   "metadata": {},
   "source": [
    "# Neural Network Model"
   ]
  },
  {
   "cell_type": "code",
   "execution_count": 38,
   "metadata": {},
   "outputs": [],
   "source": [
    "# Early Stopping\n",
    "callbacks = [EarlyStopping(monitor='val_loss',\n",
    "                           min_delta=0.0,\n",
    "                           patience=5,\n",
    "                           verbose=0,\n",
    "                           mode='min',\n",
    "                           restore_best_weights=True)]"
   ]
  },
  {
   "cell_type": "code",
   "execution_count": 46,
   "metadata": {
    "scrolled": false
   },
   "outputs": [
    {
     "name": "stdout",
     "output_type": "stream",
     "text": [
      "_________________________________________________________________\n",
      "Layer (type)                 Output Shape              Param #   \n",
      "=================================================================\n",
      "dense_15 (Dense)             (None, 64)                4288      \n",
      "_________________________________________________________________\n",
      "dense_16 (Dense)             (None, 32)                2080      \n",
      "_________________________________________________________________\n",
      "dropout_1 (Dropout)          (None, 32)                0         \n",
      "_________________________________________________________________\n",
      "dense_17 (Dense)             (None, 32)                1056      \n",
      "_________________________________________________________________\n",
      "dense_18 (Dense)             (None, 1)                 33        \n",
      "=================================================================\n",
      "Total params: 7,457\n",
      "Trainable params: 7,457\n",
      "Non-trainable params: 0\n",
      "_________________________________________________________________\n"
     ]
    }
   ],
   "source": [
    "model = Sequential()\n",
    "model.add(Dense(64, input_dim=X_train.shape[1], kernel_initializer='normal', activation='relu'))\n",
    "model.add(Dense(32, activation='relu'))\n",
    "model.add(Dense(32, activation='relu'))\n",
    "model.add(Dense(1, activation='linear'))\n",
    "model.summary()\n",
    "\n",
    "model.compile(loss='mae', optimizer='adam')"
   ]
  },
  {
   "cell_type": "code",
   "execution_count": 56,
   "metadata": {},
   "outputs": [
    {
     "name": "stdout",
     "output_type": "stream",
     "text": [
      "_________________________________________________________________\n",
      "Layer (type)                 Output Shape              Param #   \n",
      "=================================================================\n",
      "dense_27 (Dense)             (None, 256)               17152     \n",
      "_________________________________________________________________\n",
      "dense_28 (Dense)             (None, 128)               32896     \n",
      "_________________________________________________________________\n",
      "dense_29 (Dense)             (None, 64)                8256      \n",
      "_________________________________________________________________\n",
      "dense_30 (Dense)             (None, 32)                2080      \n",
      "_________________________________________________________________\n",
      "dense_31 (Dense)             (None, 1)                 33        \n",
      "=================================================================\n",
      "Total params: 60,417\n",
      "Trainable params: 60,417\n",
      "Non-trainable params: 0\n",
      "_________________________________________________________________\n"
     ]
    }
   ],
   "source": [
    "model = Sequential()\n",
    "model.add(Dense(256, input_dim=X_train.shape[1], kernel_initializer='normal', activation='relu'))\n",
    "model.add(Dense(128, activation='relu'))\n",
    "model.add(Dense(64, activation='relu'))\n",
    "model.add(Dense(32, activation='relu'))\n",
    "model.add(Dense(1, activation='linear'))\n",
    "model.summary()\n",
    "\n",
    "model.compile(loss='mae', optimizer='adam')"
   ]
  },
  {
   "cell_type": "code",
   "execution_count": 63,
   "metadata": {},
   "outputs": [
    {
     "name": "stdout",
     "output_type": "stream",
     "text": [
      "_________________________________________________________________\n",
      "Layer (type)                 Output Shape              Param #   \n",
      "=================================================================\n",
      "dense_37 (Dense)             (None, 2048)              137216    \n",
      "_________________________________________________________________\n",
      "dense_38 (Dense)             (None, 1024)              2098176   \n",
      "_________________________________________________________________\n",
      "dense_39 (Dense)             (None, 1)                 1025      \n",
      "=================================================================\n",
      "Total params: 2,236,417\n",
      "Trainable params: 2,236,417\n",
      "Non-trainable params: 0\n",
      "_________________________________________________________________\n"
     ]
    }
   ],
   "source": [
    "model = Sequential()\n",
    "model.add(Dense(2048, input_dim=X_train.shape[1], kernel_initializer='normal', activation='relu'))\n",
    "model.add(Dense(1024, activation='relu'))\n",
    "model.add(Dense(1, activation='linear'))\n",
    "model.summary()\n",
    "\n",
    "model.compile(loss='mae', optimizer='adam')"
   ]
  },
  {
   "cell_type": "markdown",
   "metadata": {},
   "source": [
    "# Train NN"
   ]
  },
  {
   "cell_type": "code",
   "execution_count": 64,
   "metadata": {},
   "outputs": [
    {
     "name": "stdout",
     "output_type": "stream",
     "text": [
      "Train on 313548 samples, validate on 104516 samples\n",
      "Epoch 1/100\n",
      "313548/313548 [==============================] - 67s 213us/sample - loss: 8.9812 - val_loss: 8.1290\n",
      "Epoch 2/100\n",
      "313548/313548 [==============================] - 66s 210us/sample - loss: 8.0858 - val_loss: 8.1576\n",
      "Epoch 3/100\n",
      "313548/313548 [==============================] - 65s 208us/sample - loss: 7.8040 - val_loss: 7.6069\n",
      "Epoch 4/100\n",
      "313548/313548 [==============================] - 66s 211us/sample - loss: 7.5882 - val_loss: 7.4873\n",
      "Epoch 5/100\n",
      "313548/313548 [==============================] - 69s 220us/sample - loss: 7.4421 - val_loss: 7.5051\n",
      "Epoch 6/100\n",
      "313548/313548 [==============================] - 64s 206us/sample - loss: 7.3558 - val_loss: 7.3059\n",
      "Epoch 7/100\n",
      "313548/313548 [==============================] - 66s 211us/sample - loss: 7.2467 - val_loss: 7.4367\n",
      "Epoch 8/100\n",
      "313548/313548 [==============================] - 63s 202us/sample - loss: 7.1684 - val_loss: 7.1263\n",
      "Epoch 9/100\n",
      "313548/313548 [==============================] - 62s 199us/sample - loss: 7.1079 - val_loss: 6.9641\n",
      "Epoch 10/100\n",
      "313548/313548 [==============================] - 62s 199us/sample - loss: 7.0387 - val_loss: 6.9593\n",
      "Epoch 11/100\n",
      "313548/313548 [==============================] - 62s 199us/sample - loss: 6.9900 - val_loss: 6.9678\n",
      "Epoch 12/100\n",
      "313548/313548 [==============================] - 62s 199us/sample - loss: 6.9535 - val_loss: 6.9858\n",
      "Epoch 13/100\n",
      "313548/313548 [==============================] - 62s 197us/sample - loss: 6.9079 - val_loss: 6.9384\n",
      "Epoch 14/100\n",
      "313548/313548 [==============================] - 61s 195us/sample - loss: 6.8584 - val_loss: 6.8653\n",
      "Epoch 15/100\n",
      "313548/313548 [==============================] - 61s 194us/sample - loss: 6.8223 - val_loss: 6.8789\n",
      "Epoch 16/100\n",
      "313548/313548 [==============================] - 61s 194us/sample - loss: 6.7730 - val_loss: 6.8848\n",
      "Epoch 17/100\n",
      "313548/313548 [==============================] - 61s 195us/sample - loss: 6.7537 - val_loss: 6.8149\n",
      "Epoch 18/100\n",
      "313548/313548 [==============================] - 61s 195us/sample - loss: 6.7132 - val_loss: 6.8552\n",
      "Epoch 19/100\n",
      "313548/313548 [==============================] - 61s 194us/sample - loss: 6.6809 - val_loss: 6.8730\n",
      "Epoch 20/100\n",
      "313548/313548 [==============================] - 61s 194us/sample - loss: 6.6480 - val_loss: 6.7473\n",
      "Epoch 21/100\n",
      "313548/313548 [==============================] - 61s 195us/sample - loss: 6.6154 - val_loss: 6.7183\n",
      "Epoch 22/100\n",
      "313548/313548 [==============================] - 61s 195us/sample - loss: 6.5902 - val_loss: 6.7150\n",
      "Epoch 23/100\n",
      "313548/313548 [==============================] - 61s 194us/sample - loss: 6.5407 - val_loss: 6.7343\n",
      "Epoch 24/100\n",
      "313548/313548 [==============================] - 61s 194us/sample - loss: 6.5220 - val_loss: 6.6987\n",
      "Epoch 25/100\n",
      "313548/313548 [==============================] - 61s 194us/sample - loss: 6.4769 - val_loss: 6.7036\n",
      "Epoch 26/100\n",
      "313548/313548 [==============================] - 61s 194us/sample - loss: 6.4663 - val_loss: 6.6727\n",
      "Epoch 27/100\n",
      "313548/313548 [==============================] - 61s 194us/sample - loss: 6.4288 - val_loss: 6.6479\n",
      "Epoch 28/100\n",
      "313548/313548 [==============================] - 62s 198us/sample - loss: 6.4054 - val_loss: 6.6652\n",
      "Epoch 29/100\n",
      "313548/313548 [==============================] - 61s 194us/sample - loss: 6.3731 - val_loss: 6.6154\n",
      "Epoch 30/100\n",
      "313548/313548 [==============================] - 61s 195us/sample - loss: 6.3342 - val_loss: 6.7339\n",
      "Epoch 31/100\n",
      "313548/313548 [==============================] - 61s 194us/sample - loss: 6.3383 - val_loss: 6.6672\n",
      "Epoch 32/100\n",
      "313548/313548 [==============================] - 61s 194us/sample - loss: 6.3022 - val_loss: 6.6117\n",
      "Epoch 33/100\n",
      "313548/313548 [==============================] - 61s 194us/sample - loss: 6.2684 - val_loss: 6.6476\n",
      "Epoch 34/100\n",
      "313548/313548 [==============================] - 61s 195us/sample - loss: 6.2615 - val_loss: 6.5842\n",
      "Epoch 35/100\n",
      "313548/313548 [==============================] - 61s 195us/sample - loss: 6.2312 - val_loss: 6.5554\n",
      "Epoch 36/100\n",
      "313548/313548 [==============================] - 61s 194us/sample - loss: 6.2085 - val_loss: 6.5054\n",
      "Epoch 37/100\n",
      "313548/313548 [==============================] - 61s 195us/sample - loss: 6.1726 - val_loss: 6.5418\n",
      "Epoch 38/100\n",
      "313548/313548 [==============================] - 61s 196us/sample - loss: 6.1417 - val_loss: 6.6013\n",
      "Epoch 39/100\n",
      "313548/313548 [==============================] - 61s 195us/sample - loss: 6.1493 - val_loss: 6.5455\n",
      "Epoch 40/100\n",
      "313548/313548 [==============================] - 61s 194us/sample - loss: 6.1017 - val_loss: 6.5006\n",
      "Epoch 41/100\n",
      "313548/313548 [==============================] - 61s 195us/sample - loss: 6.1017 - val_loss: 6.5417\n",
      "Epoch 42/100\n",
      "313548/313548 [==============================] - 61s 195us/sample - loss: 6.0823 - val_loss: 6.5135\n",
      "Epoch 43/100\n",
      "313548/313548 [==============================] - 61s 195us/sample - loss: 6.0480 - val_loss: 6.4891\n",
      "Epoch 44/100\n",
      "313548/313548 [==============================] - 61s 195us/sample - loss: 6.0243 - val_loss: 6.7680\n",
      "Epoch 45/100\n",
      "313548/313548 [==============================] - 61s 195us/sample - loss: 5.9998 - val_loss: 6.5268\n",
      "Epoch 46/100\n",
      "313548/313548 [==============================] - 61s 195us/sample - loss: 5.9584 - val_loss: 6.5307\n",
      "Epoch 47/100\n",
      "313548/313548 [==============================] - 61s 195us/sample - loss: 5.9404 - val_loss: 6.6361\n",
      "Epoch 48/100\n",
      "313548/313548 [==============================] - 61s 196us/sample - loss: 5.9194 - val_loss: 6.5315\n"
     ]
    }
   ],
   "source": [
    "hypams = {\n",
    "    'epochs':100,\n",
    "    'batch_size':100,\n",
    "    'verbose':1\n",
    "}\n",
    "\n",
    "history = model.fit(X_train,\n",
    "                    y_train,\n",
    "                    epochs=hypams['epochs'],\n",
    "                    batch_size=hypams['batch_size'], \n",
    "                    verbose=hypams['verbose'],\n",
    "                    callbacks=callbacks, \n",
    "                    validation_data=(X_test,y_test))"
   ]
  },
  {
   "cell_type": "markdown",
   "metadata": {},
   "source": [
    "## Graphs for loss"
   ]
  },
  {
   "cell_type": "code",
   "execution_count": 65,
   "metadata": {},
   "outputs": [
    {
     "name": "stdout",
     "output_type": "stream",
     "text": [
      "dict_keys(['loss', 'val_loss'])\n"
     ]
    },
    {
     "data": {
      "image/png": "[encoded data removed]",
      "text/plain": [
       "<Figure size 432x288 with 1 Axes>"
      ]
     },
     "metadata": {
      "needs_background": "light"
     },
     "output_type": "display_data"
    }
   ],
   "source": [
    "print(history.history.keys())\n",
    "# \"Loss\"\n",
    "plt.plot(history.history['loss'])\n",
    "plt.plot(history.history['val_loss'])\n",
    "plt.title('model loss')\n",
    "plt.ylabel('loss')\n",
    "plt.xlabel('epoch')\n",
    "plt.legend(['train', 'validation'], loc='upper left')\n",
    "plt.show()"
   ]
  },
  {
   "cell_type": "code",
   "execution_count": null,
   "metadata": {},
   "outputs": [],
   "source": []
  }
 ],
 "metadata": {
  "kernelspec": {
   "display_name": "Python 3",
   "language": "python",
   "name": "python3"
  },
  "language_info": {
   "codemirror_mode": {
    "name": "ipython",
    "version": 3
   },
   "file_extension": ".py",
   "mimetype": "text/x-python",
   "name": "python",
   "nbconvert_exporter": "python",
   "pygments_lexer": "ipython3",
   "version": "3.6.7"
  }
 },
 "nbformat": 4,
 "nbformat_minor": 2
}
