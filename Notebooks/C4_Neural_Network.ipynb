{
 "cells": [
  {
   "cell_type": "code",
   "execution_count": 1,
   "metadata": {},
   "outputs": [],
   "source": [
    "from warnings import filterwarnings\n",
    "filterwarnings('ignore')"
   ]
  },
  {
   "cell_type": "code",
   "execution_count": 2,
   "metadata": {
    "scrolled": true
   },
   "outputs": [
    {
     "name": "stderr",
     "output_type": "stream",
     "text": [
      "Using TensorFlow backend.\n"
     ]
    }
   ],
   "source": [
    "## import pandas as pd\n",
    "import matplotlib.pyplot as plt\n",
    "import numpy as np\n",
    "import pandas as pd\n",
    "import missingno as msno\n",
    "import scipy as scp\n",
    "import seaborn as sns\n",
    "\n",
    "import datetime \n",
    "\n",
    "# ----\n",
    "import keras\n",
    "from tensorflow.python.keras.models import Sequential\n",
    "from tensorflow.keras.callbacks import EarlyStopping\n",
    "from tensorflow.python.keras.layers import Dense\n",
    "\n",
    "from sklearn.model_selection import train_test_split\n",
    "from sklearn.model_selection import cross_val_score\n",
    "from sklearn.model_selection import KFold\n",
    "from sklearn.pipeline import Pipeline\n",
    "from sklearn.preprocessing import MinMaxScaler"
   ]
  },
  {
   "cell_type": "code",
   "execution_count": null,
   "metadata": {},
   "outputs": [],
   "source": []
  },
  {
   "cell_type": "code",
   "execution_count": null,
   "metadata": {},
   "outputs": [],
   "source": []
  },
  {
   "cell_type": "markdown",
   "metadata": {},
   "source": [
    "# Cargar train"
   ]
  },
  {
   "cell_type": "code",
   "execution_count": null,
   "metadata": {},
   "outputs": [],
   "source": []
  },
  {
   "cell_type": "code",
   "execution_count": null,
   "metadata": {},
   "outputs": [],
   "source": []
  },
  {
   "cell_type": "code",
   "execution_count": null,
   "metadata": {},
   "outputs": [],
   "source": []
  },
  {
   "cell_type": "markdown",
   "metadata": {},
   "source": [
    "# Neural Network\n",
    "\n",
    "## Select X and Y"
   ]
  },
  {
   "cell_type": "code",
   "execution_count": 26,
   "metadata": {},
   "outputs": [],
   "source": [
    "X=train[train.columns[:-1]]\n",
    "y=train[train.columns[-1]]\n"
   ]
  },
  {
   "cell_type": "code",
   "execution_count": 27,
   "metadata": {},
   "outputs": [],
   "source": [
    "y = np.array(y)"
   ]
  },
  {
   "cell_type": "code",
   "execution_count": 28,
   "metadata": {},
   "outputs": [],
   "source": [
    "y = np.reshape(y,(-1,1))"
   ]
  },
  {
   "cell_type": "markdown",
   "metadata": {},
   "source": [
    "## Normalizar/Escalar  X"
   ]
  },
  {
   "cell_type": "markdown",
   "metadata": {},
   "source": [
    "Primero se entrena el escalador/normalizador, para que prepare los rangos, y luego se transforma"
   ]
  },
  {
   "cell_type": "code",
   "execution_count": 29,
   "metadata": {
    "scrolled": true
   },
   "outputs": [
    {
     "name": "stdout",
     "output_type": "stream",
     "text": [
      "MinMaxScaler(copy=True, feature_range=(0, 1))\n"
     ]
    }
   ],
   "source": [
    "scaler = MinMaxScaler()\n",
    "print(scaler.fit(X))"
   ]
  },
  {
   "cell_type": "code",
   "execution_count": 30,
   "metadata": {},
   "outputs": [],
   "source": [
    "xscale=scaler.transform(X)"
   ]
  },
  {
   "cell_type": "code",
   "execution_count": null,
   "metadata": {},
   "outputs": [],
   "source": []
  },
  {
   "cell_type": "markdown",
   "metadata": {},
   "source": [
    "## Train/Test split\n",
    "\n",
    "Este split no es válido ni mucho menos, porque está escogido al azar. Debería cogerlo y splitear en funcion del tiempo, ya que es una serie temporal. O hacer crossvalidacion"
   ]
  },
  {
   "cell_type": "code",
   "execution_count": 31,
   "metadata": {},
   "outputs": [],
   "source": [
    "X_train, X_test, y_train, y_test = train_test_split(xscale, y,test_size=0.25)"
   ]
  },
  {
   "cell_type": "markdown",
   "metadata": {},
   "source": [
    "# Neural Network Model"
   ]
  },
  {
   "cell_type": "code",
   "execution_count": 32,
   "metadata": {},
   "outputs": [],
   "source": [
    "# Early Stopping\n",
    "callbacks = [EarlyStopping(monitor='val_loss',\n",
    "                           min_delta=0.0,\n",
    "                           patience=5,\n",
    "                           verbose=0,\n",
    "                           mode='min',\n",
    "                           restore_best_weights=True)]"
   ]
  },
  {
   "cell_type": "code",
   "execution_count": 33,
   "metadata": {
    "scrolled": true
   },
   "outputs": [
    {
     "name": "stdout",
     "output_type": "stream",
     "text": [
      "WARNING:tensorflow:From /home/carlos/Workspaces/DrivenData/entorno_dengAI/lib/python3.6/site-packages/tensorflow/python/ops/resource_variable_ops.py:435: colocate_with (from tensorflow.python.framework.ops) is deprecated and will be removed in a future version.\n",
      "Instructions for updating:\n",
      "Colocations handled automatically by placer.\n",
      "_________________________________________________________________\n",
      "Layer (type)                 Output Shape              Param #   \n",
      "=================================================================\n",
      "dense (Dense)                (None, 64)                1344      \n",
      "_________________________________________________________________\n",
      "dense_1 (Dense)              (None, 32)                2080      \n",
      "_________________________________________________________________\n",
      "dense_2 (Dense)              (None, 1)                 33        \n",
      "=================================================================\n",
      "Total params: 3,457\n",
      "Trainable params: 3,457\n",
      "Non-trainable params: 0\n",
      "_________________________________________________________________\n"
     ]
    }
   ],
   "source": [
    "model = Sequential()\n",
    "model.add(Dense(64, input_dim=X_train.shape[1], kernel_initializer='normal', activation='relu'))\n",
    "model.add(Dense(32, activation='relu'))\n",
    "model.add(Dense(1, activation='linear'))\n",
    "model.summary()\n",
    "\n",
    "model.compile(loss='mae', optimizer='adam')"
   ]
  },
  {
   "cell_type": "markdown",
   "metadata": {},
   "source": [
    "# Train NN"
   ]
  },
  {
   "cell_type": "code",
   "execution_count": 34,
   "metadata": {},
   "outputs": [
    {
     "name": "stdout",
     "output_type": "stream",
     "text": [
      "Train on 1060 samples, validate on 354 samples\n",
      "WARNING:tensorflow:From /home/carlos/Workspaces/DrivenData/entorno_dengAI/lib/python3.6/site-packages/tensorflow/python/ops/math_ops.py:3066: to_int32 (from tensorflow.python.ops.math_ops) is deprecated and will be removed in a future version.\n",
      "Instructions for updating:\n",
      "Use tf.cast instead.\n",
      "Epoch 1/150\n",
      "1060/1060 [==============================] - 0s 206us/sample - loss: 21.8464 - val_loss: 21.0462\n",
      "Epoch 2/150\n",
      "1060/1060 [==============================] - 0s 19us/sample - loss: 21.2169 - val_loss: 20.1008\n",
      "Epoch 3/150\n",
      "1060/1060 [==============================] - 0s 17us/sample - loss: 19.7655 - val_loss: 18.4539\n",
      "Epoch 4/150\n",
      "1060/1060 [==============================] - 0s 17us/sample - loss: 18.1008 - val_loss: 17.2215\n",
      "Epoch 5/150\n",
      "1060/1060 [==============================] - 0s 16us/sample - loss: 17.3723 - val_loss: 16.8581\n",
      "Epoch 6/150\n",
      "1060/1060 [==============================] - 0s 22us/sample - loss: 17.1794 - val_loss: 16.6265\n",
      "Epoch 7/150\n",
      "1060/1060 [==============================] - 0s 18us/sample - loss: 17.0076 - val_loss: 16.4559\n",
      "Epoch 8/150\n",
      "1060/1060 [==============================] - 0s 18us/sample - loss: 16.8358 - val_loss: 16.2597\n",
      "Epoch 9/150\n",
      "1060/1060 [==============================] - 0s 18us/sample - loss: 16.6051 - val_loss: 16.0534\n",
      "Epoch 10/150\n",
      "1060/1060 [==============================] - 0s 17us/sample - loss: 16.3515 - val_loss: 15.7330\n",
      "Epoch 11/150\n",
      "1060/1060 [==============================] - 0s 17us/sample - loss: 16.0945 - val_loss: 15.4845\n",
      "Epoch 12/150\n",
      "1060/1060 [==============================] - 0s 19us/sample - loss: 15.8555 - val_loss: 15.2363\n",
      "Epoch 13/150\n",
      "1060/1060 [==============================] - 0s 21us/sample - loss: 15.6491 - val_loss: 15.0082\n",
      "Epoch 14/150\n",
      "1060/1060 [==============================] - 0s 17us/sample - loss: 15.4902 - val_loss: 14.8425\n",
      "Epoch 15/150\n",
      "1060/1060 [==============================] - 0s 23us/sample - loss: 15.3949 - val_loss: 14.7762\n",
      "Epoch 16/150\n",
      "1060/1060 [==============================] - 0s 16us/sample - loss: 15.3267 - val_loss: 14.6768\n",
      "Epoch 17/150\n",
      "1060/1060 [==============================] - 0s 18us/sample - loss: 15.2787 - val_loss: 14.6435\n",
      "Epoch 18/150\n",
      "1060/1060 [==============================] - 0s 19us/sample - loss: 15.2560 - val_loss: 14.5843\n",
      "Epoch 19/150\n",
      "1060/1060 [==============================] - 0s 16us/sample - loss: 15.2492 - val_loss: 14.6023\n",
      "Epoch 20/150\n",
      "1060/1060 [==============================] - 0s 17us/sample - loss: 15.2439 - val_loss: 14.5776\n",
      "Epoch 21/150\n",
      "1060/1060 [==============================] - 0s 15us/sample - loss: 15.2432 - val_loss: 14.5886\n",
      "Epoch 22/150\n",
      "1060/1060 [==============================] - 0s 18us/sample - loss: 15.2249 - val_loss: 14.5389\n",
      "Epoch 23/150\n",
      "1060/1060 [==============================] - 0s 17us/sample - loss: 15.2614 - val_loss: 14.5761\n",
      "Epoch 24/150\n",
      "1060/1060 [==============================] - 0s 17us/sample - loss: 15.2323 - val_loss: 14.5096\n",
      "Epoch 25/150\n",
      "1060/1060 [==============================] - 0s 16us/sample - loss: 15.1929 - val_loss: 14.5511\n",
      "Epoch 26/150\n",
      "1060/1060 [==============================] - 0s 18us/sample - loss: 15.1971 - val_loss: 14.5111\n",
      "Epoch 27/150\n",
      "1060/1060 [==============================] - 0s 16us/sample - loss: 15.2045 - val_loss: 14.5571\n",
      "Epoch 28/150\n",
      "1060/1060 [==============================] - 0s 19us/sample - loss: 15.1868 - val_loss: 14.5135\n",
      "Epoch 29/150\n",
      "1060/1060 [==============================] - 0s 34us/sample - loss: 15.1730 - val_loss: 14.5310\n"
     ]
    }
   ],
   "source": [
    "hypams = {\n",
    "    'epochs':150,\n",
    "    'batch_size':50,\n",
    "    'verbose':1\n",
    "}\n",
    "\n",
    "history = model.fit(X_train,\n",
    "                    y_train,\n",
    "                    epochs=hypams['epochs'],\n",
    "                    batch_size=hypams['batch_size'], \n",
    "                    verbose=hypams['verbose'],\n",
    "                    callbacks=callbacks, \n",
    "                    validation_data=(X_test,y_test))"
   ]
  },
  {
   "cell_type": "markdown",
   "metadata": {},
   "source": [
    "## Graphs for loss"
   ]
  },
  {
   "cell_type": "code",
   "execution_count": 35,
   "metadata": {},
   "outputs": [
    {
     "name": "stdout",
     "output_type": "stream",
     "text": [
      "dict_keys(['loss', 'val_loss'])\n"
     ]
    },
    {
     "data": {
      "image/png": "[encoded data removed]",
      "text/plain": [
       "<Figure size 432x288 with 1 Axes>"
      ]
     },
     "metadata": {
      "needs_background": "light"
     },
     "output_type": "display_data"
    }
   ],
   "source": [
    "print(history.history.keys())\n",
    "# \"Loss\"\n",
    "plt.plot(history.history['loss'])\n",
    "plt.plot(history.history['val_loss'])\n",
    "plt.title('model loss')\n",
    "plt.ylabel('loss')\n",
    "plt.xlabel('epoch')\n",
    "plt.legend(['train', 'validation'], loc='upper left')\n",
    "plt.show()"
   ]
  },
  {
   "cell_type": "code",
   "execution_count": null,
   "metadata": {},
   "outputs": [],
   "source": []
  }
 ],
 "metadata": {
  "kernelspec": {
   "display_name": "Python 3",
   "language": "python",
   "name": "python3"
  },
  "language_info": {
   "codemirror_mode": {
    "name": "ipython",
    "version": 3
   },
   "file_extension": ".py",
   "mimetype": "text/x-python",
   "name": "python",
   "nbconvert_exporter": "python",
   "pygments_lexer": "ipython3",
   "version": "3.6.7"
  }
 },
 "nbformat": 4,
 "nbformat_minor": 2
}
