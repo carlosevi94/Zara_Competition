{
 "cells": [
  {
   "cell_type": "code",
   "execution_count": 2,
   "metadata": {},
   "outputs": [],
   "source": [
    "import pandas as pd"
   ]
  },
  {
   "cell_type": "markdown",
   "metadata": {},
   "source": [
    "# Carga de datos"
   ]
  },
  {
   "cell_type": "markdown",
   "metadata": {},
   "source": [
    "## Archivo products.csv"
   ]
  },
  {
   "cell_type": "code",
   "execution_count": 13,
   "metadata": {},
   "outputs": [
    {
     "name": "stdout",
     "output_type": "stream",
     "text": [
      "Dimension: (15238, 4)\n",
      "Cabecera ['product_id', 'family_id', 'subfamily_id', 'price']\n"
     ]
    }
   ],
   "source": [
    "products = pd.read_csv(\"../data/products.csv\")\n",
    "\n",
    "print(f\"Dimension: {products.shape}\")\n",
    "print(f\"Cabecera {list(products.columns)}\")"
   ]
  },
  {
   "cell_type": "code",
   "execution_count": null,
   "metadata": {
    "scrolled": true
   },
   "outputs": [],
   "source": [
    "products.describe()"
   ]
  },
  {
   "cell_type": "markdown",
   "metadata": {},
   "source": [
    "## Archivo stock_and_sales_day_0_day_63.csv"
   ]
  },
  {
   "cell_type": "code",
   "execution_count": 14,
   "metadata": {},
   "outputs": [
    {
     "name": "stdout",
     "output_type": "stream",
     "text": [
      "Dimension: (2421061, 6)\n",
      "Cabecera ['date_number', 'product_id', 'color_id', 'size_id', 'sales', 'stock']\n"
     ]
    }
   ],
   "source": [
    "products_stock_ventas = pd.read_csv(\"../data/stock_and_sales_day_0_day_63.csv\")\n",
    "\n",
    "print(f\"Dimension: {products_stock_ventas.shape}\")\n",
    "print(f\"Cabecera {list(products_stock_ventas.columns)}\")"
   ]
  },
  {
   "cell_type": "code",
   "execution_count": null,
   "metadata": {},
   "outputs": [],
   "source": [
    "products_stock_ventas.head()"
   ]
  },
  {
   "cell_type": "markdown",
   "metadata": {},
   "source": [
    "## Archivo product_blocks.csv"
   ]
  },
  {
   "cell_type": "code",
   "execution_count": 15,
   "metadata": {},
   "outputs": [
    {
     "name": "stdout",
     "output_type": "stream",
     "text": [
      "Dimension: (15238, 2)\n",
      "Cabecera ['product_id', 'block_id']\n"
     ]
    }
   ],
   "source": [
    "products_blocks = pd.read_csv(\"../data/product_blocks.csv\")\n",
    "\n",
    "print(f\"Dimension: {products_blocks.shape}\")\n",
    "print(f\"Cabecera {list(products_blocks.columns)}\")"
   ]
  },
  {
   "cell_type": "code",
   "execution_count": null,
   "metadata": {},
   "outputs": [],
   "source": [
    "products_blocks.head()"
   ]
  },
  {
   "cell_type": "markdown",
   "metadata": {},
   "source": [
    "## Archivo positions_day_0_day_63.csv"
   ]
  },
  {
   "cell_type": "code",
   "execution_count": 16,
   "metadata": {},
   "outputs": [
    {
     "name": "stdout",
     "output_type": "stream",
     "text": [
      "Dimension: (969897, 4)\n",
      "Cabecera ['date_number', 'product_id', 'category_id', 'position']\n"
     ]
    }
   ],
   "source": [
    "product_positions_0_63 = pd.read_csv(\"../data/positions_day_0_day_63.csv\")\n",
    "\n",
    "print(f\"Dimension: {product_positions_0_63.shape}\")\n",
    "print(f\"Cabecera {list(product_positions_0_63.columns)}\")"
   ]
  },
  {
   "cell_type": "code",
   "execution_count": null,
   "metadata": {},
   "outputs": [],
   "source": [
    "product_positions_0_63.head()"
   ]
  },
  {
   "cell_type": "markdown",
   "metadata": {},
   "source": [
    "# Dataframe Train"
   ]
  },
  {
   "cell_type": "code",
   "execution_count": null,
   "metadata": {},
   "outputs": [],
   "source": [
    "train = pd.merge(products,products_blocks,how='inner',on='product_id')"
   ]
  },
  {
   "cell_type": "code",
   "execution_count": null,
   "metadata": {},
   "outputs": [],
   "source": [
    "train = pd.merge(train,products_stock_ventas,how='inner',on='product_id')"
   ]
  },
  {
   "cell_type": "code",
   "execution_count": null,
   "metadata": {},
   "outputs": [],
   "source": [
    "train = pd.merge(train,product_positions_0_63,how='inner',on='product_id')"
   ]
  },
  {
   "cell_type": "code",
   "execution_count": null,
   "metadata": {},
   "outputs": [],
   "source": [
    "train.head()"
   ]
  },
  {
   "cell_type": "code",
   "execution_count": null,
   "metadata": {},
   "outputs": [],
   "source": []
  }
 ],
 "metadata": {
  "kernelspec": {
   "display_name": "Python 3",
   "language": "python",
   "name": "python3"
  },
  "language_info": {
   "codemirror_mode": {
    "name": "ipython",
    "version": 3
   },
   "file_extension": ".py",
   "mimetype": "text/x-python",
   "name": "python",
   "nbconvert_exporter": "python",
   "pygments_lexer": "ipython3",
   "version": "3.6.7"
  }
 },
 "nbformat": 4,
 "nbformat_minor": 2
}
