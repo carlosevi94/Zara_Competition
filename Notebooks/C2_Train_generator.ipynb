{
 "cells": [
  {
   "cell_type": "code",
   "execution_count": 1,
   "metadata": {},
   "outputs": [],
   "source": [
    "import pandas as pd\n",
    "import numpy as np\n",
    "import missingno as msn\n",
    "\n",
    "import matplotlib.pyplot as plt\n",
    "import seaborn as sns"
   ]
  },
  {
   "cell_type": "markdown",
   "metadata": {},
   "source": [
    "# Carga de datos\n",
    "\n",
    "## Train"
   ]
  },
  {
   "cell_type": "markdown",
   "metadata": {},
   "source": [
    "### Archivo products.csv"
   ]
  },
  {
   "cell_type": "code",
   "execution_count": 2,
   "metadata": {
    "scrolled": true
   },
   "outputs": [
    {
     "name": "stdout",
     "output_type": "stream",
     "text": [
      "Dimension: (15238, 4)\n",
      "Cabecera ['product_id', 'family_id', 'subfamily_id', 'price']\n"
     ]
    }
   ],
   "source": [
    "products = pd.read_csv(\"../data/products.csv\")\n",
    "\n",
    "print(f\"Dimension: {products.shape}\")\n",
    "print(f\"Cabecera {list(products.columns)}\")"
   ]
  },
  {
   "cell_type": "markdown",
   "metadata": {},
   "source": [
    "### Archivo stock_and_sales_day_0_day_63.csv"
   ]
  },
  {
   "cell_type": "code",
   "execution_count": 3,
   "metadata": {
    "scrolled": true
   },
   "outputs": [
    {
     "name": "stdout",
     "output_type": "stream",
     "text": [
      "Dimension: (2421061, 6)\n",
      "Cabecera ['date_number', 'product_id', 'color_id', 'size_id', 'sales', 'stock']\n"
     ]
    }
   ],
   "source": [
    "products_stock_ventas = pd.read_csv(\"../data/stock_and_sales_day_0_day_63.csv\")\n",
    "\n",
    "print(f\"Dimension: {products_stock_ventas.shape}\")\n",
    "print(f\"Cabecera {list(products_stock_ventas.columns)}\")"
   ]
  },
  {
   "cell_type": "code",
   "execution_count": 4,
   "metadata": {},
   "outputs": [],
   "source": [
    "# products_stock_ventas.head()"
   ]
  },
  {
   "cell_type": "markdown",
   "metadata": {},
   "source": [
    "### Archivo product_blocks.csv"
   ]
  },
  {
   "cell_type": "code",
   "execution_count": 5,
   "metadata": {},
   "outputs": [
    {
     "name": "stdout",
     "output_type": "stream",
     "text": [
      "Dimension: (15238, 2)\n",
      "Cabecera ['product_id', 'block_id']\n"
     ]
    }
   ],
   "source": [
    "products_blocks = pd.read_csv(\"../data/product_blocks.csv\")\n",
    "\n",
    "print(f\"Dimension: {products_blocks.shape}\")\n",
    "print(f\"Cabecera {list(products_blocks.columns)}\")"
   ]
  },
  {
   "cell_type": "code",
   "execution_count": 6,
   "metadata": {},
   "outputs": [],
   "source": [
    "# products_blocks.head()"
   ]
  },
  {
   "cell_type": "markdown",
   "metadata": {},
   "source": [
    "### Archivo positions_day_0_day_63.csv"
   ]
  },
  {
   "cell_type": "code",
   "execution_count": 7,
   "metadata": {},
   "outputs": [
    {
     "name": "stdout",
     "output_type": "stream",
     "text": [
      "Dimension: (969897, 4)\n",
      "Cabecera ['date_number', 'product_id', 'category_id', 'position']\n"
     ]
    }
   ],
   "source": [
    "product_positions_0_63 = pd.read_csv(\"../data/positions_day_0_day_63.csv\")\n",
    "\n",
    "print(f\"Dimension: {product_positions_0_63.shape}\")\n",
    "print(f\"Cabecera {list(product_positions_0_63.columns)}\")"
   ]
  },
  {
   "cell_type": "code",
   "execution_count": 8,
   "metadata": {},
   "outputs": [],
   "source": [
    "# product_positions_0_63.head()"
   ]
  },
  {
   "cell_type": "markdown",
   "metadata": {},
   "source": [
    "## Test"
   ]
  },
  {
   "cell_type": "code",
   "execution_count": 9,
   "metadata": {},
   "outputs": [],
   "source": [
    "product_stock_70= pd.read_csv(\"../data/stock_day_71_stock_replenishment_days_72-77.csv\")\n"
   ]
  },
  {
   "cell_type": "code",
   "execution_count": 10,
   "metadata": {},
   "outputs": [],
   "source": [
    "product_positions_71 = pd.read_csv(\"../data/positions_day_71.csv\")"
   ]
  },
  {
   "cell_type": "markdown",
   "metadata": {},
   "source": [
    "# Dataframe Train"
   ]
  },
  {
   "cell_type": "code",
   "execution_count": 11,
   "metadata": {},
   "outputs": [],
   "source": [
    "train = pd.merge(products,products_blocks,how='inner',on='product_id')"
   ]
  },
  {
   "cell_type": "code",
   "execution_count": 12,
   "metadata": {
    "scrolled": true
   },
   "outputs": [
    {
     "data": {
      "text/plain": [
       "(15238, 5)"
      ]
     },
     "execution_count": 12,
     "metadata": {},
     "output_type": "execute_result"
    }
   ],
   "source": [
    "train.shape"
   ]
  },
  {
   "cell_type": "markdown",
   "metadata": {},
   "source": [
    "Join con ventas"
   ]
  },
  {
   "cell_type": "code",
   "execution_count": 13,
   "metadata": {},
   "outputs": [],
   "source": [
    "train = pd.merge(train,products_stock_ventas,how='inner',on='product_id')"
   ]
  },
  {
   "cell_type": "code",
   "execution_count": 14,
   "metadata": {
    "scrolled": false
   },
   "outputs": [
    {
     "data": {
      "text/plain": [
       "(2421061, 10)"
      ]
     },
     "execution_count": 14,
     "metadata": {},
     "output_type": "execute_result"
    }
   ],
   "source": [
    "train.shape"
   ]
  },
  {
   "cell_type": "code",
   "execution_count": null,
   "metadata": {},
   "outputs": [],
   "source": []
  },
  {
   "cell_type": "code",
   "execution_count": null,
   "metadata": {},
   "outputs": [],
   "source": []
  },
  {
   "cell_type": "code",
   "execution_count": null,
   "metadata": {},
   "outputs": [],
   "source": []
  },
  {
   "cell_type": "code",
   "execution_count": null,
   "metadata": {},
   "outputs": [],
   "source": []
  },
  {
   "cell_type": "markdown",
   "metadata": {},
   "source": [
    "## Train 1 "
   ]
  },
  {
   "cell_type": "code",
   "execution_count": 16,
   "metadata": {
    "scrolled": true
   },
   "outputs": [],
   "source": [
    "train_g = train.groupby(['product_id','date_number']).agg({'price':'max',\n",
    "                                                 'color_id':'count',\n",
    "                                                 'color_id':pd.Series.nunique,\n",
    "                                                 'size_id':'count',\n",
    "                                                 'sales':'sum',\n",
    "                                                 'stock':'sum',\n",
    "                                                 'block_id':'max',\n",
    "                                                 'family_id':np.unique,\n",
    "                                                 'subfamily_id':np.unique})"
   ]
  },
  {
   "cell_type": "code",
   "execution_count": 26,
   "metadata": {
    "scrolled": true
   },
   "outputs": [
    {
     "data": {
      "text/plain": [
       "(418064, 8)"
      ]
     },
     "execution_count": 26,
     "metadata": {},
     "output_type": "execute_result"
    }
   ],
   "source": [
    "train_g.shape"
   ]
  },
  {
   "cell_type": "code",
   "execution_count": 17,
   "metadata": {
    "scrolled": false
   },
   "outputs": [
    {
     "data": {
      "text/html": [
       "<div>\n",
       "<style scoped>\n",
       "    .dataframe tbody tr th:only-of-type {\n",
       "        vertical-align: middle;\n",
       "    }\n",
       "\n",
       "    .dataframe tbody tr th {\n",
       "        vertical-align: top;\n",
       "    }\n",
       "\n",
       "    .dataframe thead th {\n",
       "        text-align: right;\n",
       "    }\n",
       "</style>\n",
       "<table border=\"1\" class=\"dataframe\">\n",
       "  <thead>\n",
       "    <tr style=\"text-align: right;\">\n",
       "      <th></th>\n",
       "      <th></th>\n",
       "      <th>price</th>\n",
       "      <th>color_id</th>\n",
       "      <th>size_id</th>\n",
       "      <th>sales</th>\n",
       "      <th>stock</th>\n",
       "      <th>block_id</th>\n",
       "      <th>family_id</th>\n",
       "      <th>subfamily_id</th>\n",
       "    </tr>\n",
       "    <tr>\n",
       "      <th>product_id</th>\n",
       "      <th>date_number</th>\n",
       "      <th></th>\n",
       "      <th></th>\n",
       "      <th></th>\n",
       "      <th></th>\n",
       "      <th></th>\n",
       "      <th></th>\n",
       "      <th></th>\n",
       "      <th></th>\n",
       "    </tr>\n",
       "  </thead>\n",
       "  <tbody>\n",
       "    <tr>\n",
       "      <th rowspan=\"5\" valign=\"top\">151926</th>\n",
       "      <th>59</th>\n",
       "      <td>25.95</td>\n",
       "      <td>1</td>\n",
       "      <td>4</td>\n",
       "      <td>5</td>\n",
       "      <td>155</td>\n",
       "      <td>1969</td>\n",
       "      <td>396066037</td>\n",
       "      <td>335531561</td>\n",
       "    </tr>\n",
       "    <tr>\n",
       "      <th>60</th>\n",
       "      <td>25.95</td>\n",
       "      <td>1</td>\n",
       "      <td>5</td>\n",
       "      <td>10</td>\n",
       "      <td>330</td>\n",
       "      <td>1969</td>\n",
       "      <td>396066037</td>\n",
       "      <td>335531561</td>\n",
       "    </tr>\n",
       "    <tr>\n",
       "      <th>61</th>\n",
       "      <td>25.95</td>\n",
       "      <td>1</td>\n",
       "      <td>5</td>\n",
       "      <td>9</td>\n",
       "      <td>308</td>\n",
       "      <td>1969</td>\n",
       "      <td>396066037</td>\n",
       "      <td>335531561</td>\n",
       "    </tr>\n",
       "    <tr>\n",
       "      <th>62</th>\n",
       "      <td>25.95</td>\n",
       "      <td>1</td>\n",
       "      <td>5</td>\n",
       "      <td>9</td>\n",
       "      <td>289</td>\n",
       "      <td>1969</td>\n",
       "      <td>396066037</td>\n",
       "      <td>335531561</td>\n",
       "    </tr>\n",
       "    <tr>\n",
       "      <th>63</th>\n",
       "      <td>25.95</td>\n",
       "      <td>1</td>\n",
       "      <td>5</td>\n",
       "      <td>8</td>\n",
       "      <td>261</td>\n",
       "      <td>1969</td>\n",
       "      <td>396066037</td>\n",
       "      <td>335531561</td>\n",
       "    </tr>\n",
       "  </tbody>\n",
       "</table>\n",
       "</div>"
      ],
      "text/plain": [
       "                        price  color_id  size_id  sales  stock  block_id  \\\n",
       "product_id date_number                                                     \n",
       "151926     59           25.95         1        4      5    155      1969   \n",
       "           60           25.95         1        5     10    330      1969   \n",
       "           61           25.95         1        5      9    308      1969   \n",
       "           62           25.95         1        5      9    289      1969   \n",
       "           63           25.95         1        5      8    261      1969   \n",
       "\n",
       "                        family_id  subfamily_id  \n",
       "product_id date_number                           \n",
       "151926     59           396066037     335531561  \n",
       "           60           396066037     335531561  \n",
       "           61           396066037     335531561  \n",
       "           62           396066037     335531561  \n",
       "           63           396066037     335531561  "
      ]
     },
     "execution_count": 17,
     "metadata": {},
     "output_type": "execute_result"
    }
   ],
   "source": [
    "train_g.head()"
   ]
  },
  {
   "cell_type": "code",
   "execution_count": null,
   "metadata": {},
   "outputs": [],
   "source": []
  },
  {
   "cell_type": "code",
   "execution_count": 59,
   "metadata": {},
   "outputs": [
    {
     "data": {
      "text/plain": [
       "array([111455099, 242364222, 513017386, 820445075,  54666687,   3000471,\n",
       "       319419383, 422108434, 558685710, 600575761, 674701524, 941322277,\n",
       "         7026791,   8015276, 452052101, 541898038, 560206786, 843639151,\n",
       "       108454628, 182555396, 421635475, 489270175, 642148717,  90614934,\n",
       "       254705979, 632558253, 124455800, 350037367, 436761077, 704351195,\n",
       "       727657238, 792872119, 912547955, 866775388, 402324861,  19663886,\n",
       "       100083842, 320597084, 521719317, 730692071, 783782848, 208196760,\n",
       "       329816267, 333313752, 806347791, 473452736, 647210896, 724094920,\n",
       "       985347357, 600306727, 628894442, 452725255, 627547010, 589905013,\n",
       "        48794687, 187580152, 401848970, 863107089, 864751709, 836111865,\n",
       "       694499193, 729830141, 777299664, 811594435, 882570990, 656554948,\n",
       "       814568651, 925899231, 340672953, 385182788, 389958960, 543111919,\n",
       "       779486758, 357800346, 216812755,  51344302, 450460304, 243332423,\n",
       "       873802179, 742319588])"
      ]
     },
     "execution_count": 59,
     "metadata": {},
     "output_type": "execute_result"
    }
   ],
   "source": [
    "train.size_id.unique()"
   ]
  },
  {
   "cell_type": "code",
   "execution_count": null,
   "metadata": {},
   "outputs": [],
   "source": []
  },
  {
   "cell_type": "markdown",
   "metadata": {},
   "source": [
    "## Train 2\n",
    "\n",
    "Está agrupado de al reves. Es la agrupación que recomienda rodri"
   ]
  },
  {
   "cell_type": "code",
   "execution_count": 20,
   "metadata": {},
   "outputs": [],
   "source": [
    "train_g2 = train.groupby(['date_number','product_id']).agg({'price':'max',\n",
    "                                                'color_id':pd.Series.nunique,\n",
    "                                                 'size_id':pd.Series.nunique,\n",
    "                                                 'sales':'sum',\n",
    "                                                 'stock':'sum',\n",
    "                                                 'block_id':'max',\n",
    "                                                 'family_id':np.unique,\n",
    "                                                 'subfamily_id':np.unique})"
   ]
  },
  {
   "cell_type": "markdown",
   "metadata": {},
   "source": [
    "Para verificar que los datos están correctas"
   ]
  },
  {
   "cell_type": "code",
   "execution_count": 21,
   "metadata": {
    "scrolled": false
   },
   "outputs": [
    {
     "data": {
      "text/html": [
       "<div>\n",
       "<style scoped>\n",
       "    .dataframe tbody tr th:only-of-type {\n",
       "        vertical-align: middle;\n",
       "    }\n",
       "\n",
       "    .dataframe tbody tr th {\n",
       "        vertical-align: top;\n",
       "    }\n",
       "\n",
       "    .dataframe thead th {\n",
       "        text-align: right;\n",
       "    }\n",
       "</style>\n",
       "<table border=\"1\" class=\"dataframe\">\n",
       "  <thead>\n",
       "    <tr style=\"text-align: right;\">\n",
       "      <th></th>\n",
       "      <th></th>\n",
       "      <th>price</th>\n",
       "      <th>color_id</th>\n",
       "      <th>size_id</th>\n",
       "      <th>sales</th>\n",
       "      <th>stock</th>\n",
       "      <th>block_id</th>\n",
       "      <th>family_id</th>\n",
       "      <th>subfamily_id</th>\n",
       "    </tr>\n",
       "    <tr>\n",
       "      <th>date_number</th>\n",
       "      <th>product_id</th>\n",
       "      <th></th>\n",
       "      <th></th>\n",
       "      <th></th>\n",
       "      <th></th>\n",
       "      <th></th>\n",
       "      <th></th>\n",
       "      <th></th>\n",
       "      <th></th>\n",
       "    </tr>\n",
       "  </thead>\n",
       "  <tbody>\n",
       "    <tr>\n",
       "      <th>63</th>\n",
       "      <th>151926</th>\n",
       "      <td>25.95</td>\n",
       "      <td>1</td>\n",
       "      <td>5</td>\n",
       "      <td>8</td>\n",
       "      <td>261</td>\n",
       "      <td>1969</td>\n",
       "      <td>396066037</td>\n",
       "      <td>335531561</td>\n",
       "    </tr>\n",
       "  </tbody>\n",
       "</table>\n",
       "</div>"
      ],
      "text/plain": [
       "                        price  color_id  size_id  sales  stock  block_id  \\\n",
       "date_number product_id                                                     \n",
       "63          151926      25.95         1        5      8    261      1969   \n",
       "\n",
       "                        family_id  subfamily_id  \n",
       "date_number product_id                           \n",
       "63          151926      396066037     335531561  "
      ]
     },
     "execution_count": 21,
     "metadata": {},
     "output_type": "execute_result"
    }
   ],
   "source": [
    "train_g2.loc[63,151926,:]"
   ]
  },
  {
   "cell_type": "code",
   "execution_count": 22,
   "metadata": {},
   "outputs": [
    {
     "data": {
      "text/html": [
       "<div>\n",
       "<style scoped>\n",
       "    .dataframe tbody tr th:only-of-type {\n",
       "        vertical-align: middle;\n",
       "    }\n",
       "\n",
       "    .dataframe tbody tr th {\n",
       "        vertical-align: top;\n",
       "    }\n",
       "\n",
       "    .dataframe thead th {\n",
       "        text-align: right;\n",
       "    }\n",
       "</style>\n",
       "<table border=\"1\" class=\"dataframe\">\n",
       "  <thead>\n",
       "    <tr style=\"text-align: right;\">\n",
       "      <th></th>\n",
       "      <th>product_id</th>\n",
       "      <th>family_id</th>\n",
       "      <th>subfamily_id</th>\n",
       "      <th>price</th>\n",
       "      <th>block_id</th>\n",
       "      <th>date_number</th>\n",
       "      <th>color_id</th>\n",
       "      <th>size_id</th>\n",
       "      <th>sales</th>\n",
       "      <th>stock</th>\n",
       "    </tr>\n",
       "  </thead>\n",
       "  <tbody>\n",
       "    <tr>\n",
       "      <th>19</th>\n",
       "      <td>151926</td>\n",
       "      <td>396066037</td>\n",
       "      <td>335531561</td>\n",
       "      <td>25.95</td>\n",
       "      <td>1969</td>\n",
       "      <td>63</td>\n",
       "      <td>909958217</td>\n",
       "      <td>54666687</td>\n",
       "      <td>0</td>\n",
       "      <td>61</td>\n",
       "    </tr>\n",
       "    <tr>\n",
       "      <th>20</th>\n",
       "      <td>151926</td>\n",
       "      <td>396066037</td>\n",
       "      <td>335531561</td>\n",
       "      <td>25.95</td>\n",
       "      <td>1969</td>\n",
       "      <td>63</td>\n",
       "      <td>909958217</td>\n",
       "      <td>111455099</td>\n",
       "      <td>0</td>\n",
       "      <td>16</td>\n",
       "    </tr>\n",
       "    <tr>\n",
       "      <th>21</th>\n",
       "      <td>151926</td>\n",
       "      <td>396066037</td>\n",
       "      <td>335531561</td>\n",
       "      <td>25.95</td>\n",
       "      <td>1969</td>\n",
       "      <td>63</td>\n",
       "      <td>909958217</td>\n",
       "      <td>242364222</td>\n",
       "      <td>1</td>\n",
       "      <td>77</td>\n",
       "    </tr>\n",
       "    <tr>\n",
       "      <th>22</th>\n",
       "      <td>151926</td>\n",
       "      <td>396066037</td>\n",
       "      <td>335531561</td>\n",
       "      <td>25.95</td>\n",
       "      <td>1969</td>\n",
       "      <td>63</td>\n",
       "      <td>909958217</td>\n",
       "      <td>513017386</td>\n",
       "      <td>1</td>\n",
       "      <td>32</td>\n",
       "    </tr>\n",
       "    <tr>\n",
       "      <th>23</th>\n",
       "      <td>151926</td>\n",
       "      <td>396066037</td>\n",
       "      <td>335531561</td>\n",
       "      <td>25.95</td>\n",
       "      <td>1969</td>\n",
       "      <td>63</td>\n",
       "      <td>909958217</td>\n",
       "      <td>820445075</td>\n",
       "      <td>6</td>\n",
       "      <td>75</td>\n",
       "    </tr>\n",
       "  </tbody>\n",
       "</table>\n",
       "</div>"
      ],
      "text/plain": [
       "    product_id  family_id  subfamily_id  price  block_id  date_number  \\\n",
       "19      151926  396066037     335531561  25.95      1969           63   \n",
       "20      151926  396066037     335531561  25.95      1969           63   \n",
       "21      151926  396066037     335531561  25.95      1969           63   \n",
       "22      151926  396066037     335531561  25.95      1969           63   \n",
       "23      151926  396066037     335531561  25.95      1969           63   \n",
       "\n",
       "     color_id    size_id  sales  stock  \n",
       "19  909958217   54666687      0     61  \n",
       "20  909958217  111455099      0     16  \n",
       "21  909958217  242364222      1     77  \n",
       "22  909958217  513017386      1     32  \n",
       "23  909958217  820445075      6     75  "
      ]
     },
     "execution_count": 22,
     "metadata": {},
     "output_type": "execute_result"
    }
   ],
   "source": [
    "train.loc[(train.product_id==151926) & (train['date_number'] == 63)]"
   ]
  },
  {
   "cell_type": "code",
   "execution_count": null,
   "metadata": {},
   "outputs": [],
   "source": []
  },
  {
   "cell_type": "code",
   "execution_count": 160,
   "metadata": {},
   "outputs": [],
   "source": [
    "train_g2.to_csv(\"train_grouped2.csv\",header=True)"
   ]
  },
  {
   "cell_type": "code",
   "execution_count": null,
   "metadata": {},
   "outputs": [],
   "source": []
  },
  {
   "cell_type": "markdown",
   "metadata": {},
   "source": [
    "## Grafico de cuantos dias estan los productos en la tienda\n",
    "\n",
    "_TODO: Poner esto en el EDA_"
   ]
  },
  {
   "cell_type": "code",
   "execution_count": 23,
   "metadata": {},
   "outputs": [],
   "source": [
    "dias_en_tiendas = train_g.groupby('product_id').count()"
   ]
  },
  {
   "cell_type": "markdown",
   "metadata": {},
   "source": [
    "Como podemos ver aquí, la mitad de productos si llevan en la tienda desde el día 0, pero la otra mitad no."
   ]
  },
  {
   "cell_type": "code",
   "execution_count": 41,
   "metadata": {
    "scrolled": true
   },
   "outputs": [
    {
     "data": {
      "text/html": [
       "<div>\n",
       "<style scoped>\n",
       "    .dataframe tbody tr th:only-of-type {\n",
       "        vertical-align: middle;\n",
       "    }\n",
       "\n",
       "    .dataframe tbody tr th {\n",
       "        vertical-align: top;\n",
       "    }\n",
       "\n",
       "    .dataframe thead th {\n",
       "        text-align: right;\n",
       "    }\n",
       "</style>\n",
       "<table border=\"1\" class=\"dataframe\">\n",
       "  <thead>\n",
       "    <tr style=\"text-align: right;\">\n",
       "      <th></th>\n",
       "      <th>product_id</th>\n",
       "    </tr>\n",
       "    <tr>\n",
       "      <th>price</th>\n",
       "      <th></th>\n",
       "    </tr>\n",
       "  </thead>\n",
       "  <tbody>\n",
       "    <tr>\n",
       "      <th>1</th>\n",
       "      <td>45</td>\n",
       "    </tr>\n",
       "    <tr>\n",
       "      <th>2</th>\n",
       "      <td>33</td>\n",
       "    </tr>\n",
       "    <tr>\n",
       "      <th>3</th>\n",
       "      <td>63</td>\n",
       "    </tr>\n",
       "    <tr>\n",
       "      <th>4</th>\n",
       "      <td>66</td>\n",
       "    </tr>\n",
       "    <tr>\n",
       "      <th>5</th>\n",
       "      <td>130</td>\n",
       "    </tr>\n",
       "    <tr>\n",
       "      <th>6</th>\n",
       "      <td>24</td>\n",
       "    </tr>\n",
       "    <tr>\n",
       "      <th>7</th>\n",
       "      <td>71</td>\n",
       "    </tr>\n",
       "    <tr>\n",
       "      <th>8</th>\n",
       "      <td>170</td>\n",
       "    </tr>\n",
       "    <tr>\n",
       "      <th>9</th>\n",
       "      <td>10</td>\n",
       "    </tr>\n",
       "    <tr>\n",
       "      <th>10</th>\n",
       "      <td>27</td>\n",
       "    </tr>\n",
       "    <tr>\n",
       "      <th>11</th>\n",
       "      <td>144</td>\n",
       "    </tr>\n",
       "    <tr>\n",
       "      <th>12</th>\n",
       "      <td>133</td>\n",
       "    </tr>\n",
       "    <tr>\n",
       "      <th>13</th>\n",
       "      <td>19</td>\n",
       "    </tr>\n",
       "    <tr>\n",
       "      <th>14</th>\n",
       "      <td>28</td>\n",
       "    </tr>\n",
       "    <tr>\n",
       "      <th>15</th>\n",
       "      <td>83</td>\n",
       "    </tr>\n",
       "    <tr>\n",
       "      <th>16</th>\n",
       "      <td>10</td>\n",
       "    </tr>\n",
       "    <tr>\n",
       "      <th>17</th>\n",
       "      <td>7</td>\n",
       "    </tr>\n",
       "    <tr>\n",
       "      <th>18</th>\n",
       "      <td>45</td>\n",
       "    </tr>\n",
       "    <tr>\n",
       "      <th>19</th>\n",
       "      <td>122</td>\n",
       "    </tr>\n",
       "    <tr>\n",
       "      <th>20</th>\n",
       "      <td>14</td>\n",
       "    </tr>\n",
       "    <tr>\n",
       "      <th>21</th>\n",
       "      <td>99</td>\n",
       "    </tr>\n",
       "    <tr>\n",
       "      <th>22</th>\n",
       "      <td>166</td>\n",
       "    </tr>\n",
       "    <tr>\n",
       "      <th>23</th>\n",
       "      <td>16</td>\n",
       "    </tr>\n",
       "    <tr>\n",
       "      <th>24</th>\n",
       "      <td>11</td>\n",
       "    </tr>\n",
       "    <tr>\n",
       "      <th>25</th>\n",
       "      <td>77</td>\n",
       "    </tr>\n",
       "    <tr>\n",
       "      <th>26</th>\n",
       "      <td>145</td>\n",
       "    </tr>\n",
       "    <tr>\n",
       "      <th>27</th>\n",
       "      <td>14</td>\n",
       "    </tr>\n",
       "    <tr>\n",
       "      <th>28</th>\n",
       "      <td>51</td>\n",
       "    </tr>\n",
       "    <tr>\n",
       "      <th>29</th>\n",
       "      <td>163</td>\n",
       "    </tr>\n",
       "    <tr>\n",
       "      <th>30</th>\n",
       "      <td>8</td>\n",
       "    </tr>\n",
       "    <tr>\n",
       "      <th>...</th>\n",
       "      <td>...</td>\n",
       "    </tr>\n",
       "    <tr>\n",
       "      <th>35</th>\n",
       "      <td>140</td>\n",
       "    </tr>\n",
       "    <tr>\n",
       "      <th>36</th>\n",
       "      <td>76</td>\n",
       "    </tr>\n",
       "    <tr>\n",
       "      <th>37</th>\n",
       "      <td>16</td>\n",
       "    </tr>\n",
       "    <tr>\n",
       "      <th>38</th>\n",
       "      <td>13</td>\n",
       "    </tr>\n",
       "    <tr>\n",
       "      <th>39</th>\n",
       "      <td>159</td>\n",
       "    </tr>\n",
       "    <tr>\n",
       "      <th>40</th>\n",
       "      <td>91</td>\n",
       "    </tr>\n",
       "    <tr>\n",
       "      <th>41</th>\n",
       "      <td>18</td>\n",
       "    </tr>\n",
       "    <tr>\n",
       "      <th>42</th>\n",
       "      <td>90</td>\n",
       "    </tr>\n",
       "    <tr>\n",
       "      <th>43</th>\n",
       "      <td>121</td>\n",
       "    </tr>\n",
       "    <tr>\n",
       "      <th>44</th>\n",
       "      <td>20</td>\n",
       "    </tr>\n",
       "    <tr>\n",
       "      <th>45</th>\n",
       "      <td>31</td>\n",
       "    </tr>\n",
       "    <tr>\n",
       "      <th>46</th>\n",
       "      <td>109</td>\n",
       "    </tr>\n",
       "    <tr>\n",
       "      <th>47</th>\n",
       "      <td>210</td>\n",
       "    </tr>\n",
       "    <tr>\n",
       "      <th>48</th>\n",
       "      <td>28</td>\n",
       "    </tr>\n",
       "    <tr>\n",
       "      <th>49</th>\n",
       "      <td>97</td>\n",
       "    </tr>\n",
       "    <tr>\n",
       "      <th>50</th>\n",
       "      <td>145</td>\n",
       "    </tr>\n",
       "    <tr>\n",
       "      <th>51</th>\n",
       "      <td>25</td>\n",
       "    </tr>\n",
       "    <tr>\n",
       "      <th>52</th>\n",
       "      <td>35</td>\n",
       "    </tr>\n",
       "    <tr>\n",
       "      <th>53</th>\n",
       "      <td>24</td>\n",
       "    </tr>\n",
       "    <tr>\n",
       "      <th>54</th>\n",
       "      <td>249</td>\n",
       "    </tr>\n",
       "    <tr>\n",
       "      <th>55</th>\n",
       "      <td>35</td>\n",
       "    </tr>\n",
       "    <tr>\n",
       "      <th>56</th>\n",
       "      <td>129</td>\n",
       "    </tr>\n",
       "    <tr>\n",
       "      <th>57</th>\n",
       "      <td>118</td>\n",
       "    </tr>\n",
       "    <tr>\n",
       "      <th>58</th>\n",
       "      <td>34</td>\n",
       "    </tr>\n",
       "    <tr>\n",
       "      <th>59</th>\n",
       "      <td>44</td>\n",
       "    </tr>\n",
       "    <tr>\n",
       "      <th>60</th>\n",
       "      <td>89</td>\n",
       "    </tr>\n",
       "    <tr>\n",
       "      <th>61</th>\n",
       "      <td>182</td>\n",
       "    </tr>\n",
       "    <tr>\n",
       "      <th>62</th>\n",
       "      <td>55</td>\n",
       "    </tr>\n",
       "    <tr>\n",
       "      <th>63</th>\n",
       "      <td>157</td>\n",
       "    </tr>\n",
       "    <tr>\n",
       "      <th>64</th>\n",
       "      <td>3937</td>\n",
       "    </tr>\n",
       "  </tbody>\n",
       "</table>\n",
       "<p>64 rows × 1 columns</p>\n",
       "</div>"
      ],
      "text/plain": [
       "       product_id\n",
       "price            \n",
       "1              45\n",
       "2              33\n",
       "3              63\n",
       "4              66\n",
       "5             130\n",
       "6              24\n",
       "7              71\n",
       "8             170\n",
       "9              10\n",
       "10             27\n",
       "11            144\n",
       "12            133\n",
       "13             19\n",
       "14             28\n",
       "15             83\n",
       "16             10\n",
       "17              7\n",
       "18             45\n",
       "19            122\n",
       "20             14\n",
       "21             99\n",
       "22            166\n",
       "23             16\n",
       "24             11\n",
       "25             77\n",
       "26            145\n",
       "27             14\n",
       "28             51\n",
       "29            163\n",
       "30              8\n",
       "...           ...\n",
       "35            140\n",
       "36             76\n",
       "37             16\n",
       "38             13\n",
       "39            159\n",
       "40             91\n",
       "41             18\n",
       "42             90\n",
       "43            121\n",
       "44             20\n",
       "45             31\n",
       "46            109\n",
       "47            210\n",
       "48             28\n",
       "49             97\n",
       "50            145\n",
       "51             25\n",
       "52             35\n",
       "53             24\n",
       "54            249\n",
       "55             35\n",
       "56            129\n",
       "57            118\n",
       "58             34\n",
       "59             44\n",
       "60             89\n",
       "61            182\n",
       "62             55\n",
       "63            157\n",
       "64           3937\n",
       "\n",
       "[64 rows x 1 columns]"
      ]
     },
     "execution_count": 41,
     "metadata": {},
     "output_type": "execute_result"
    }
   ],
   "source": [
    "dias_en_tiendas[['price']].reset_index().groupby('price').count()"
   ]
  },
  {
   "cell_type": "code",
   "execution_count": 31,
   "metadata": {},
   "outputs": [
    {
     "data": {
      "text/plain": [
       "<matplotlib.axes._subplots.AxesSubplot at 0x7fb46c7ccdd8>"
      ]
     },
     "execution_count": 31,
     "metadata": {},
     "output_type": "execute_result"
    },
    {
     "data": {
      "image/png": "[encoded data removed]",
      "text/plain": [
       "<Figure size 432x288 with 1 Axes>"
      ]
     },
     "metadata": {
      "needs_background": "light"
     },
     "output_type": "display_data"
    }
   ],
   "source": [
    "sns.distplot(dias_en_tiendas.price)"
   ]
  },
  {
   "cell_type": "code",
   "execution_count": null,
   "metadata": {},
   "outputs": [],
   "source": []
  },
  {
   "cell_type": "code",
   "execution_count": null,
   "metadata": {},
   "outputs": [],
   "source": []
  },
  {
   "cell_type": "code",
   "execution_count": null,
   "metadata": {},
   "outputs": [],
   "source": []
  },
  {
   "cell_type": "code",
   "execution_count": null,
   "metadata": {},
   "outputs": [],
   "source": []
  },
  {
   "cell_type": "code",
   "execution_count": null,
   "metadata": {},
   "outputs": [],
   "source": []
  },
  {
   "cell_type": "code",
   "execution_count": null,
   "metadata": {},
   "outputs": [],
   "source": []
  },
  {
   "cell_type": "code",
   "execution_count": null,
   "metadata": {},
   "outputs": [],
   "source": []
  },
  {
   "cell_type": "code",
   "execution_count": null,
   "metadata": {},
   "outputs": [],
   "source": []
  },
  {
   "cell_type": "markdown",
   "metadata": {},
   "source": [
    "## Columna Beneficio"
   ]
  },
  {
   "cell_type": "code",
   "execution_count": 28,
   "metadata": {},
   "outputs": [],
   "source": [
    "train['beneficio'] = train.price * train.sales"
   ]
  },
  {
   "cell_type": "code",
   "execution_count": 37,
   "metadata": {
    "scrolled": true
   },
   "outputs": [
    {
     "data": {
      "text/html": [
       "<div>\n",
       "<style scoped>\n",
       "    .dataframe tbody tr th:only-of-type {\n",
       "        vertical-align: middle;\n",
       "    }\n",
       "\n",
       "    .dataframe tbody tr th {\n",
       "        vertical-align: top;\n",
       "    }\n",
       "\n",
       "    .dataframe thead th {\n",
       "        text-align: right;\n",
       "    }\n",
       "</style>\n",
       "<table border=\"1\" class=\"dataframe\">\n",
       "  <thead>\n",
       "    <tr style=\"text-align: right;\">\n",
       "      <th></th>\n",
       "      <th>price</th>\n",
       "      <th>beneficio</th>\n",
       "    </tr>\n",
       "    <tr>\n",
       "      <th>block_id</th>\n",
       "      <th></th>\n",
       "      <th></th>\n",
       "    </tr>\n",
       "  </thead>\n",
       "  <tbody>\n",
       "    <tr>\n",
       "      <th>2128</th>\n",
       "      <td>1949</td>\n",
       "      <td>499675.35</td>\n",
       "    </tr>\n",
       "    <tr>\n",
       "      <th>2037</th>\n",
       "      <td>2660</td>\n",
       "      <td>243420.45</td>\n",
       "    </tr>\n",
       "    <tr>\n",
       "      <th>1446</th>\n",
       "      <td>2745</td>\n",
       "      <td>188207.65</td>\n",
       "    </tr>\n",
       "    <tr>\n",
       "      <th>1143</th>\n",
       "      <td>2871</td>\n",
       "      <td>172570.81</td>\n",
       "    </tr>\n",
       "    <tr>\n",
       "      <th>1521</th>\n",
       "      <td>2636</td>\n",
       "      <td>161824.50</td>\n",
       "    </tr>\n",
       "    <tr>\n",
       "      <th>2574</th>\n",
       "      <td>3010</td>\n",
       "      <td>160036.25</td>\n",
       "    </tr>\n",
       "    <tr>\n",
       "      <th>9</th>\n",
       "      <td>681</td>\n",
       "      <td>158525.55</td>\n",
       "    </tr>\n",
       "    <tr>\n",
       "      <th>487</th>\n",
       "      <td>6495</td>\n",
       "      <td>148477.82</td>\n",
       "    </tr>\n",
       "    <tr>\n",
       "      <th>1477</th>\n",
       "      <td>1644</td>\n",
       "      <td>148424.50</td>\n",
       "    </tr>\n",
       "    <tr>\n",
       "      <th>2503</th>\n",
       "      <td>2455</td>\n",
       "      <td>147272.55</td>\n",
       "    </tr>\n",
       "    <tr>\n",
       "      <th>2233</th>\n",
       "      <td>2524</td>\n",
       "      <td>138324.45</td>\n",
       "    </tr>\n",
       "    <tr>\n",
       "      <th>2481</th>\n",
       "      <td>1391</td>\n",
       "      <td>137250.45</td>\n",
       "    </tr>\n",
       "    <tr>\n",
       "      <th>1283</th>\n",
       "      <td>2326</td>\n",
       "      <td>136402.71</td>\n",
       "    </tr>\n",
       "    <tr>\n",
       "      <th>1575</th>\n",
       "      <td>890</td>\n",
       "      <td>135934.42</td>\n",
       "    </tr>\n",
       "    <tr>\n",
       "      <th>2223</th>\n",
       "      <td>2014</td>\n",
       "      <td>134827.40</td>\n",
       "    </tr>\n",
       "    <tr>\n",
       "      <th>2306</th>\n",
       "      <td>1408</td>\n",
       "      <td>133408.95</td>\n",
       "    </tr>\n",
       "    <tr>\n",
       "      <th>1256</th>\n",
       "      <td>1372</td>\n",
       "      <td>132431.60</td>\n",
       "    </tr>\n",
       "    <tr>\n",
       "      <th>1580</th>\n",
       "      <td>3810</td>\n",
       "      <td>130909.15</td>\n",
       "    </tr>\n",
       "    <tr>\n",
       "      <th>388</th>\n",
       "      <td>1863</td>\n",
       "      <td>126248.10</td>\n",
       "    </tr>\n",
       "    <tr>\n",
       "      <th>387</th>\n",
       "      <td>2913</td>\n",
       "      <td>125319.45</td>\n",
       "    </tr>\n",
       "    <tr>\n",
       "      <th>2393</th>\n",
       "      <td>2006</td>\n",
       "      <td>121870.55</td>\n",
       "    </tr>\n",
       "    <tr>\n",
       "      <th>1632</th>\n",
       "      <td>1283</td>\n",
       "      <td>121094.70</td>\n",
       "    </tr>\n",
       "    <tr>\n",
       "      <th>921</th>\n",
       "      <td>955</td>\n",
       "      <td>115484.25</td>\n",
       "    </tr>\n",
       "    <tr>\n",
       "      <th>314</th>\n",
       "      <td>2093</td>\n",
       "      <td>115276.87</td>\n",
       "    </tr>\n",
       "    <tr>\n",
       "      <th>1221</th>\n",
       "      <td>3619</td>\n",
       "      <td>113744.20</td>\n",
       "    </tr>\n",
       "    <tr>\n",
       "      <th>726</th>\n",
       "      <td>2401</td>\n",
       "      <td>112111.20</td>\n",
       "    </tr>\n",
       "    <tr>\n",
       "      <th>63</th>\n",
       "      <td>2641</td>\n",
       "      <td>111321.75</td>\n",
       "    </tr>\n",
       "    <tr>\n",
       "      <th>753</th>\n",
       "      <td>1252</td>\n",
       "      <td>109325.90</td>\n",
       "    </tr>\n",
       "    <tr>\n",
       "      <th>773</th>\n",
       "      <td>1054</td>\n",
       "      <td>108396.60</td>\n",
       "    </tr>\n",
       "    <tr>\n",
       "      <th>1080</th>\n",
       "      <td>564</td>\n",
       "      <td>103242.45</td>\n",
       "    </tr>\n",
       "    <tr>\n",
       "      <th>...</th>\n",
       "      <td>...</td>\n",
       "      <td>...</td>\n",
       "    </tr>\n",
       "    <tr>\n",
       "      <th>2524</th>\n",
       "      <td>8</td>\n",
       "      <td>39.80</td>\n",
       "    </tr>\n",
       "    <tr>\n",
       "      <th>636</th>\n",
       "      <td>105</td>\n",
       "      <td>39.75</td>\n",
       "    </tr>\n",
       "    <tr>\n",
       "      <th>1760</th>\n",
       "      <td>37</td>\n",
       "      <td>39.60</td>\n",
       "    </tr>\n",
       "    <tr>\n",
       "      <th>744</th>\n",
       "      <td>4</td>\n",
       "      <td>35.70</td>\n",
       "    </tr>\n",
       "    <tr>\n",
       "      <th>2337</th>\n",
       "      <td>39</td>\n",
       "      <td>23.85</td>\n",
       "    </tr>\n",
       "    <tr>\n",
       "      <th>1741</th>\n",
       "      <td>552</td>\n",
       "      <td>19.95</td>\n",
       "    </tr>\n",
       "    <tr>\n",
       "      <th>2586</th>\n",
       "      <td>2</td>\n",
       "      <td>19.95</td>\n",
       "    </tr>\n",
       "    <tr>\n",
       "      <th>2379</th>\n",
       "      <td>1</td>\n",
       "      <td>19.95</td>\n",
       "    </tr>\n",
       "    <tr>\n",
       "      <th>578</th>\n",
       "      <td>224</td>\n",
       "      <td>17.95</td>\n",
       "    </tr>\n",
       "    <tr>\n",
       "      <th>1253</th>\n",
       "      <td>128</td>\n",
       "      <td>9.95</td>\n",
       "    </tr>\n",
       "    <tr>\n",
       "      <th>2280</th>\n",
       "      <td>552</td>\n",
       "      <td>0.00</td>\n",
       "    </tr>\n",
       "    <tr>\n",
       "      <th>1290</th>\n",
       "      <td>256</td>\n",
       "      <td>0.00</td>\n",
       "    </tr>\n",
       "    <tr>\n",
       "      <th>2121</th>\n",
       "      <td>256</td>\n",
       "      <td>0.00</td>\n",
       "    </tr>\n",
       "    <tr>\n",
       "      <th>740</th>\n",
       "      <td>192</td>\n",
       "      <td>0.00</td>\n",
       "    </tr>\n",
       "    <tr>\n",
       "      <th>1657</th>\n",
       "      <td>192</td>\n",
       "      <td>0.00</td>\n",
       "    </tr>\n",
       "    <tr>\n",
       "      <th>126</th>\n",
       "      <td>128</td>\n",
       "      <td>0.00</td>\n",
       "    </tr>\n",
       "    <tr>\n",
       "      <th>2568</th>\n",
       "      <td>128</td>\n",
       "      <td>0.00</td>\n",
       "    </tr>\n",
       "    <tr>\n",
       "      <th>2406</th>\n",
       "      <td>114</td>\n",
       "      <td>0.00</td>\n",
       "    </tr>\n",
       "    <tr>\n",
       "      <th>567</th>\n",
       "      <td>64</td>\n",
       "      <td>0.00</td>\n",
       "    </tr>\n",
       "    <tr>\n",
       "      <th>1162</th>\n",
       "      <td>64</td>\n",
       "      <td>0.00</td>\n",
       "    </tr>\n",
       "    <tr>\n",
       "      <th>1343</th>\n",
       "      <td>64</td>\n",
       "      <td>0.00</td>\n",
       "    </tr>\n",
       "    <tr>\n",
       "      <th>600</th>\n",
       "      <td>44</td>\n",
       "      <td>0.00</td>\n",
       "    </tr>\n",
       "    <tr>\n",
       "      <th>2105</th>\n",
       "      <td>42</td>\n",
       "      <td>0.00</td>\n",
       "    </tr>\n",
       "    <tr>\n",
       "      <th>1943</th>\n",
       "      <td>36</td>\n",
       "      <td>0.00</td>\n",
       "    </tr>\n",
       "    <tr>\n",
       "      <th>483</th>\n",
       "      <td>21</td>\n",
       "      <td>0.00</td>\n",
       "    </tr>\n",
       "    <tr>\n",
       "      <th>1752</th>\n",
       "      <td>18</td>\n",
       "      <td>0.00</td>\n",
       "    </tr>\n",
       "    <tr>\n",
       "      <th>1816</th>\n",
       "      <td>11</td>\n",
       "      <td>0.00</td>\n",
       "    </tr>\n",
       "    <tr>\n",
       "      <th>196</th>\n",
       "      <td>7</td>\n",
       "      <td>0.00</td>\n",
       "    </tr>\n",
       "    <tr>\n",
       "      <th>2496</th>\n",
       "      <td>6</td>\n",
       "      <td>0.00</td>\n",
       "    </tr>\n",
       "    <tr>\n",
       "      <th>124</th>\n",
       "      <td>3</td>\n",
       "      <td>0.00</td>\n",
       "    </tr>\n",
       "  </tbody>\n",
       "</table>\n",
       "<p>2552 rows × 2 columns</p>\n",
       "</div>"
      ],
      "text/plain": [
       "          price  beneficio\n",
       "block_id                  \n",
       "2128       1949  499675.35\n",
       "2037       2660  243420.45\n",
       "1446       2745  188207.65\n",
       "1143       2871  172570.81\n",
       "1521       2636  161824.50\n",
       "2574       3010  160036.25\n",
       "9           681  158525.55\n",
       "487        6495  148477.82\n",
       "1477       1644  148424.50\n",
       "2503       2455  147272.55\n",
       "2233       2524  138324.45\n",
       "2481       1391  137250.45\n",
       "1283       2326  136402.71\n",
       "1575        890  135934.42\n",
       "2223       2014  134827.40\n",
       "2306       1408  133408.95\n",
       "1256       1372  132431.60\n",
       "1580       3810  130909.15\n",
       "388        1863  126248.10\n",
       "387        2913  125319.45\n",
       "2393       2006  121870.55\n",
       "1632       1283  121094.70\n",
       "921         955  115484.25\n",
       "314        2093  115276.87\n",
       "1221       3619  113744.20\n",
       "726        2401  112111.20\n",
       "63         2641  111321.75\n",
       "753        1252  109325.90\n",
       "773        1054  108396.60\n",
       "1080        564  103242.45\n",
       "...         ...        ...\n",
       "2524          8      39.80\n",
       "636         105      39.75\n",
       "1760         37      39.60\n",
       "744           4      35.70\n",
       "2337         39      23.85\n",
       "1741        552      19.95\n",
       "2586          2      19.95\n",
       "2379          1      19.95\n",
       "578         224      17.95\n",
       "1253        128       9.95\n",
       "2280        552       0.00\n",
       "1290        256       0.00\n",
       "2121        256       0.00\n",
       "740         192       0.00\n",
       "1657        192       0.00\n",
       "126         128       0.00\n",
       "2568        128       0.00\n",
       "2406        114       0.00\n",
       "567          64       0.00\n",
       "1162         64       0.00\n",
       "1343         64       0.00\n",
       "600          44       0.00\n",
       "2105         42       0.00\n",
       "1943         36       0.00\n",
       "483          21       0.00\n",
       "1752         18       0.00\n",
       "1816         11       0.00\n",
       "196           7       0.00\n",
       "2496          6       0.00\n",
       "124           3       0.00\n",
       "\n",
       "[2552 rows x 2 columns]"
      ]
     },
     "execution_count": 37,
     "metadata": {},
     "output_type": "execute_result"
    }
   ],
   "source": [
    "train.groupby('block_id').agg({'price':'count','beneficio':'sum'}).sort_values(['beneficio','price'],ascending=False)"
   ]
  },
  {
   "cell_type": "code",
   "execution_count": null,
   "metadata": {},
   "outputs": [],
   "source": []
  },
  {
   "cell_type": "code",
   "execution_count": null,
   "metadata": {},
   "outputs": [],
   "source": []
  },
  {
   "cell_type": "code",
   "execution_count": null,
   "metadata": {},
   "outputs": [],
   "source": []
  },
  {
   "cell_type": "code",
   "execution_count": null,
   "metadata": {},
   "outputs": [],
   "source": []
  },
  {
   "cell_type": "code",
   "execution_count": null,
   "metadata": {},
   "outputs": [],
   "source": []
  },
  {
   "cell_type": "code",
   "execution_count": null,
   "metadata": {},
   "outputs": [],
   "source": []
  },
  {
   "cell_type": "code",
   "execution_count": null,
   "metadata": {},
   "outputs": [],
   "source": []
  },
  {
   "cell_type": "markdown",
   "metadata": {},
   "source": [
    "# Dataset curva informada\n",
    "\n",
    "Es un dataset que informa si un producto aparece en un día concreto"
   ]
  },
  {
   "cell_type": "code",
   "execution_count": 18,
   "metadata": {},
   "outputs": [],
   "source": [
    "# ids_products = train.product_id.unique()\n",
    "\n",
    "# incompletos = {}\n",
    "# for j in ids_products:\n",
    "#     existe = []\n",
    "#     for i in range(0,64):\n",
    "#         existe.append(train_g2.index.isin([(i, j)]).any())\n",
    "#     incompletos[j] = existe\n",
    "            \n",
    "# pd.DataFrame(incompletos).to_csv(\"curva_informada.csv\",header=True)\n",
    "# curvas = pd.DataFrame(incompletos)\n",
    "\n",
    "curvas = pd.read_csv(\"curva_informada.csv\",index_col=0)"
   ]
  },
  {
   "cell_type": "code",
   "execution_count": 19,
   "metadata": {},
   "outputs": [
    {
     "data": {
      "text/html": [
       "<div>\n",
       "<style scoped>\n",
       "    .dataframe tbody tr th:only-of-type {\n",
       "        vertical-align: middle;\n",
       "    }\n",
       "\n",
       "    .dataframe tbody tr th {\n",
       "        vertical-align: top;\n",
       "    }\n",
       "\n",
       "    .dataframe thead th {\n",
       "        text-align: right;\n",
       "    }\n",
       "</style>\n",
       "<table border=\"1\" class=\"dataframe\">\n",
       "  <thead>\n",
       "    <tr style=\"text-align: right;\">\n",
       "      <th></th>\n",
       "      <th>151926</th>\n",
       "      <th>213413</th>\n",
       "      <th>310130</th>\n",
       "      <th>455200</th>\n",
       "      <th>571044</th>\n",
       "      <th>658552</th>\n",
       "      <th>671985</th>\n",
       "      <th>759150</th>\n",
       "      <th>836635</th>\n",
       "      <th>940502</th>\n",
       "      <th>...</th>\n",
       "      <th>998991075</th>\n",
       "      <th>999196291</th>\n",
       "      <th>999403909</th>\n",
       "      <th>999506781</th>\n",
       "      <th>999516715</th>\n",
       "      <th>999772605</th>\n",
       "      <th>999794342</th>\n",
       "      <th>999816749</th>\n",
       "      <th>999862351</th>\n",
       "      <th>999936664</th>\n",
       "    </tr>\n",
       "  </thead>\n",
       "  <tbody>\n",
       "    <tr>\n",
       "      <th>0</th>\n",
       "      <td>False</td>\n",
       "      <td>False</td>\n",
       "      <td>True</td>\n",
       "      <td>False</td>\n",
       "      <td>False</td>\n",
       "      <td>False</td>\n",
       "      <td>False</td>\n",
       "      <td>False</td>\n",
       "      <td>False</td>\n",
       "      <td>False</td>\n",
       "      <td>...</td>\n",
       "      <td>True</td>\n",
       "      <td>True</td>\n",
       "      <td>True</td>\n",
       "      <td>False</td>\n",
       "      <td>True</td>\n",
       "      <td>False</td>\n",
       "      <td>True</td>\n",
       "      <td>True</td>\n",
       "      <td>True</td>\n",
       "      <td>True</td>\n",
       "    </tr>\n",
       "    <tr>\n",
       "      <th>1</th>\n",
       "      <td>False</td>\n",
       "      <td>False</td>\n",
       "      <td>True</td>\n",
       "      <td>False</td>\n",
       "      <td>False</td>\n",
       "      <td>False</td>\n",
       "      <td>False</td>\n",
       "      <td>False</td>\n",
       "      <td>False</td>\n",
       "      <td>False</td>\n",
       "      <td>...</td>\n",
       "      <td>True</td>\n",
       "      <td>True</td>\n",
       "      <td>True</td>\n",
       "      <td>False</td>\n",
       "      <td>True</td>\n",
       "      <td>False</td>\n",
       "      <td>True</td>\n",
       "      <td>True</td>\n",
       "      <td>True</td>\n",
       "      <td>True</td>\n",
       "    </tr>\n",
       "    <tr>\n",
       "      <th>2</th>\n",
       "      <td>False</td>\n",
       "      <td>False</td>\n",
       "      <td>True</td>\n",
       "      <td>False</td>\n",
       "      <td>False</td>\n",
       "      <td>False</td>\n",
       "      <td>False</td>\n",
       "      <td>False</td>\n",
       "      <td>False</td>\n",
       "      <td>False</td>\n",
       "      <td>...</td>\n",
       "      <td>True</td>\n",
       "      <td>True</td>\n",
       "      <td>True</td>\n",
       "      <td>False</td>\n",
       "      <td>True</td>\n",
       "      <td>False</td>\n",
       "      <td>True</td>\n",
       "      <td>True</td>\n",
       "      <td>True</td>\n",
       "      <td>True</td>\n",
       "    </tr>\n",
       "    <tr>\n",
       "      <th>3</th>\n",
       "      <td>False</td>\n",
       "      <td>True</td>\n",
       "      <td>True</td>\n",
       "      <td>False</td>\n",
       "      <td>False</td>\n",
       "      <td>False</td>\n",
       "      <td>False</td>\n",
       "      <td>False</td>\n",
       "      <td>False</td>\n",
       "      <td>False</td>\n",
       "      <td>...</td>\n",
       "      <td>True</td>\n",
       "      <td>True</td>\n",
       "      <td>True</td>\n",
       "      <td>False</td>\n",
       "      <td>True</td>\n",
       "      <td>False</td>\n",
       "      <td>True</td>\n",
       "      <td>True</td>\n",
       "      <td>True</td>\n",
       "      <td>True</td>\n",
       "    </tr>\n",
       "    <tr>\n",
       "      <th>4</th>\n",
       "      <td>False</td>\n",
       "      <td>True</td>\n",
       "      <td>True</td>\n",
       "      <td>False</td>\n",
       "      <td>False</td>\n",
       "      <td>False</td>\n",
       "      <td>False</td>\n",
       "      <td>False</td>\n",
       "      <td>False</td>\n",
       "      <td>False</td>\n",
       "      <td>...</td>\n",
       "      <td>True</td>\n",
       "      <td>True</td>\n",
       "      <td>True</td>\n",
       "      <td>False</td>\n",
       "      <td>True</td>\n",
       "      <td>False</td>\n",
       "      <td>True</td>\n",
       "      <td>True</td>\n",
       "      <td>True</td>\n",
       "      <td>True</td>\n",
       "    </tr>\n",
       "  </tbody>\n",
       "</table>\n",
       "<p>5 rows × 8722 columns</p>\n",
       "</div>"
      ],
      "text/plain": [
       "   151926  213413  310130  455200  571044  658552  671985  759150  836635  \\\n",
       "0   False   False    True   False   False   False   False   False   False   \n",
       "1   False   False    True   False   False   False   False   False   False   \n",
       "2   False   False    True   False   False   False   False   False   False   \n",
       "3   False    True    True   False   False   False   False   False   False   \n",
       "4   False    True    True   False   False   False   False   False   False   \n",
       "\n",
       "   940502  ...  998991075  999196291  999403909  999506781  999516715  \\\n",
       "0   False  ...       True       True       True      False       True   \n",
       "1   False  ...       True       True       True      False       True   \n",
       "2   False  ...       True       True       True      False       True   \n",
       "3   False  ...       True       True       True      False       True   \n",
       "4   False  ...       True       True       True      False       True   \n",
       "\n",
       "   999772605  999794342  999816749  999862351  999936664  \n",
       "0      False       True       True       True       True  \n",
       "1      False       True       True       True       True  \n",
       "2      False       True       True       True       True  \n",
       "3      False       True       True       True       True  \n",
       "4      False       True       True       True       True  \n",
       "\n",
       "[5 rows x 8722 columns]"
      ]
     },
     "execution_count": 19,
     "metadata": {},
     "output_type": "execute_result"
    }
   ],
   "source": [
    "curvas.head()"
   ]
  },
  {
   "cell_type": "markdown",
   "metadata": {},
   "source": [
    "## Prueba para informar curva"
   ]
  },
  {
   "cell_type": "markdown",
   "metadata": {},
   "source": [
    "### Seleccion de dataset de prueba\n",
    "\n",
    "Ejemplo de seleccion de filas en un multiindice.\n",
    "```py\n",
    "train_g2.loc[pd.IndexSlice[:,151926], :]\n",
    "```"
   ]
  },
  {
   "cell_type": "code",
   "execution_count": 95,
   "metadata": {},
   "outputs": [
    {
     "data": {
      "text/html": [
       "<div>\n",
       "<style scoped>\n",
       "    .dataframe tbody tr th:only-of-type {\n",
       "        vertical-align: middle;\n",
       "    }\n",
       "\n",
       "    .dataframe tbody tr th {\n",
       "        vertical-align: top;\n",
       "    }\n",
       "\n",
       "    .dataframe thead th {\n",
       "        text-align: right;\n",
       "    }\n",
       "</style>\n",
       "<table border=\"1\" class=\"dataframe\">\n",
       "  <thead>\n",
       "    <tr style=\"text-align: right;\">\n",
       "      <th></th>\n",
       "      <th></th>\n",
       "      <th>price</th>\n",
       "      <th>color_id</th>\n",
       "      <th>size_id</th>\n",
       "      <th>sales</th>\n",
       "      <th>stock</th>\n",
       "      <th>block_id</th>\n",
       "      <th>family_id</th>\n",
       "      <th>subfamily_id</th>\n",
       "    </tr>\n",
       "    <tr>\n",
       "      <th>date_number</th>\n",
       "      <th>product_id</th>\n",
       "      <th></th>\n",
       "      <th></th>\n",
       "      <th></th>\n",
       "      <th></th>\n",
       "      <th></th>\n",
       "      <th></th>\n",
       "      <th></th>\n",
       "      <th></th>\n",
       "    </tr>\n",
       "  </thead>\n",
       "  <tbody>\n",
       "    <tr>\n",
       "      <th>59</th>\n",
       "      <th>151926</th>\n",
       "      <td>25.95</td>\n",
       "      <td>1</td>\n",
       "      <td>4</td>\n",
       "      <td>5</td>\n",
       "      <td>155</td>\n",
       "      <td>1969</td>\n",
       "      <td>396066037</td>\n",
       "      <td>335531561</td>\n",
       "    </tr>\n",
       "    <tr>\n",
       "      <th>60</th>\n",
       "      <th>151926</th>\n",
       "      <td>25.95</td>\n",
       "      <td>1</td>\n",
       "      <td>5</td>\n",
       "      <td>10</td>\n",
       "      <td>330</td>\n",
       "      <td>1969</td>\n",
       "      <td>396066037</td>\n",
       "      <td>335531561</td>\n",
       "    </tr>\n",
       "    <tr>\n",
       "      <th>61</th>\n",
       "      <th>151926</th>\n",
       "      <td>25.95</td>\n",
       "      <td>1</td>\n",
       "      <td>5</td>\n",
       "      <td>9</td>\n",
       "      <td>308</td>\n",
       "      <td>1969</td>\n",
       "      <td>396066037</td>\n",
       "      <td>335531561</td>\n",
       "    </tr>\n",
       "    <tr>\n",
       "      <th>62</th>\n",
       "      <th>151926</th>\n",
       "      <td>25.95</td>\n",
       "      <td>1</td>\n",
       "      <td>5</td>\n",
       "      <td>9</td>\n",
       "      <td>289</td>\n",
       "      <td>1969</td>\n",
       "      <td>396066037</td>\n",
       "      <td>335531561</td>\n",
       "    </tr>\n",
       "    <tr>\n",
       "      <th>63</th>\n",
       "      <th>151926</th>\n",
       "      <td>25.95</td>\n",
       "      <td>1</td>\n",
       "      <td>5</td>\n",
       "      <td>8</td>\n",
       "      <td>261</td>\n",
       "      <td>1969</td>\n",
       "      <td>396066037</td>\n",
       "      <td>335531561</td>\n",
       "    </tr>\n",
       "  </tbody>\n",
       "</table>\n",
       "</div>"
      ],
      "text/plain": [
       "                        price  color_id  size_id  sales  stock  block_id  \\\n",
       "date_number product_id                                                     \n",
       "59          151926      25.95         1        4      5    155      1969   \n",
       "60          151926      25.95         1        5     10    330      1969   \n",
       "61          151926      25.95         1        5      9    308      1969   \n",
       "62          151926      25.95         1        5      9    289      1969   \n",
       "63          151926      25.95         1        5      8    261      1969   \n",
       "\n",
       "                        family_id  subfamily_id  \n",
       "date_number product_id                           \n",
       "59          151926      396066037     335531561  \n",
       "60          151926      396066037     335531561  \n",
       "61          151926      396066037     335531561  \n",
       "62          151926      396066037     335531561  \n",
       "63          151926      396066037     335531561  "
      ]
     },
     "execution_count": 95,
     "metadata": {},
     "output_type": "execute_result"
    }
   ],
   "source": [
    "prueba_train_expandido =train_g2.loc[pd.IndexSlice[:,151926], :].copy()\n",
    "prueba_train_expandido"
   ]
  },
  {
   "cell_type": "code",
   "execution_count": 96,
   "metadata": {},
   "outputs": [],
   "source": [
    "prueba_curvas = curvas['151926']"
   ]
  },
  {
   "cell_type": "code",
   "execution_count": 154,
   "metadata": {},
   "outputs": [],
   "source": [
    "for index,value in enumerate(prueba_curvas.to_list()):\n",
    "    if not value:\n",
    "        prueba_train_expandido.loc[(index,151926),:] = None\n"
   ]
  },
  {
   "cell_type": "markdown",
   "metadata": {},
   "source": [
    "### Fill_NA"
   ]
  },
  {
   "cell_type": "code",
   "execution_count": 155,
   "metadata": {},
   "outputs": [],
   "source": [
    "prueba_train_expandido.loc[:,'price'].fillna(prueba_train_expandido['price'].dropna().unique()[0],inplace=True)\n",
    "prueba_train_expandido.loc[:,'block_id'].fillna(prueba_train_expandido['block_id'].dropna().unique()[0],inplace=True)\n",
    "prueba_train_expandido.loc[:,'family_id'].fillna(prueba_train_expandido['family_id'].dropna().unique()[0],inplace=True)\n",
    "prueba_train_expandido.loc[:,'subfamily_id'].fillna(prueba_train_expandido['subfamily_id'].dropna().unique()[0],inplace=True)"
   ]
  },
  {
   "cell_type": "code",
   "execution_count": 156,
   "metadata": {},
   "outputs": [],
   "source": [
    "prueba_train_expandido.loc[0,'color_id'] = 0.0\n",
    "prueba_train_expandido.loc[0,'size_id'] = 0.0\n",
    "prueba_train_expandido.loc[0,'sales'] = 0.0\n",
    "prueba_train_expandido.loc[0,'stock'] = 0.0"
   ]
  },
  {
   "cell_type": "code",
   "execution_count": 157,
   "metadata": {},
   "outputs": [],
   "source": [
    "prueba_train_expandido['color_id'].fillna(method='ffill',inplace=True)\n",
    "prueba_train_expandido['size_id'].fillna(method='ffill',inplace=True)\n",
    "prueba_train_expandido['sales'].fillna(method='ffill',inplace=True)\n",
    "prueba_train_expandido['stock'].fillna(method='ffill',inplace=True)"
   ]
  },
  {
   "cell_type": "code",
   "execution_count": 158,
   "metadata": {},
   "outputs": [],
   "source": [
    "prueba_train_expandido.sort_index(inplace=True)"
   ]
  },
  {
   "cell_type": "code",
   "execution_count": null,
   "metadata": {},
   "outputs": [],
   "source": []
  },
  {
   "cell_type": "code",
   "execution_count": null,
   "metadata": {},
   "outputs": [],
   "source": []
  },
  {
   "cell_type": "markdown",
   "metadata": {},
   "source": [
    "## Demostracion Informacion en curva"
   ]
  },
  {
   "cell_type": "code",
   "execution_count": 87,
   "metadata": {},
   "outputs": [],
   "source": [
    "prueba_plt = curvas[[213413]]"
   ]
  },
  {
   "cell_type": "code",
   "execution_count": 92,
   "metadata": {},
   "outputs": [
    {
     "name": "stderr",
     "output_type": "stream",
     "text": [
      "/home/carlos/Workspaces/Competiciones/entorno_competiciones/lib/python3.6/site-packages/ipykernel_launcher.py:1: SettingWithCopyWarning: \n",
      "A value is trying to be set on a copy of a slice from a DataFrame.\n",
      "Try using .loc[row_indexer,col_indexer] = value instead\n",
      "\n",
      "See the caveats in the documentation: http://pandas.pydata.org/pandas-docs/stable/indexing.html#indexing-view-versus-copy\n",
      "  \"\"\"Entry point for launching an IPython kernel.\n"
     ]
    }
   ],
   "source": [
    "prueba_plt['column_plotable'] = prueba_plt[213413].astype(int)"
   ]
  },
  {
   "cell_type": "code",
   "execution_count": 98,
   "metadata": {},
   "outputs": [
    {
     "data": {
      "text/plain": [
       "[<matplotlib.lines.Line2D at 0x7fcea5baa4a8>]"
      ]
     },
     "execution_count": 98,
     "metadata": {},
     "output_type": "execute_result"
    },
    {
     "data": {
      "image/png": "[encoded data removed]",
      "text/plain": [
       "<Figure size 432x288 with 1 Axes>"
      ]
     },
     "metadata": {
      "needs_background": "light"
     },
     "output_type": "display_data"
    }
   ],
   "source": [
    "plt.plot(prueba_plt.index.values,prueba_plt['column_plotable'])"
   ]
  },
  {
   "cell_type": "code",
   "execution_count": 73,
   "metadata": {
    "scrolled": true
   },
   "outputs": [
    {
     "data": {
      "text/plain": [
       "64"
      ]
     },
     "execution_count": 73,
     "metadata": {},
     "output_type": "execute_result"
    }
   ],
   "source": [
    "curvas[998991075].sum()"
   ]
  },
  {
   "cell_type": "code",
   "execution_count": null,
   "metadata": {},
   "outputs": [],
   "source": []
  },
  {
   "cell_type": "code",
   "execution_count": null,
   "metadata": {},
   "outputs": [],
   "source": []
  },
  {
   "cell_type": "code",
   "execution_count": null,
   "metadata": {},
   "outputs": [],
   "source": []
  },
  {
   "cell_type": "code",
   "execution_count": 44,
   "metadata": {},
   "outputs": [
    {
     "data": {
      "text/plain": [
       "(8057, 8)"
      ]
     },
     "execution_count": 44,
     "metadata": {},
     "output_type": "execute_result"
    }
   ],
   "source": [
    "train_g2.loc[63].shape"
   ]
  },
  {
   "cell_type": "code",
   "execution_count": 29,
   "metadata": {},
   "outputs": [
    {
     "data": {
      "text/plain": [
       "(8722,)"
      ]
     },
     "execution_count": 29,
     "metadata": {},
     "output_type": "execute_result"
    }
   ],
   "source": [
    "train.product_id.unique().shape"
   ]
  },
  {
   "cell_type": "code",
   "execution_count": null,
   "metadata": {},
   "outputs": [],
   "source": []
  },
  {
   "cell_type": "code",
   "execution_count": null,
   "metadata": {},
   "outputs": [],
   "source": []
  },
  {
   "cell_type": "code",
   "execution_count": 39,
   "metadata": {},
   "outputs": [
    {
     "data": {
      "text/plain": [
       "slice(2, 10, None)"
      ]
     },
     "execution_count": 39,
     "metadata": {},
     "output_type": "execute_result"
    }
   ],
   "source": [
    "slice(2, 10)"
   ]
  },
  {
   "cell_type": "code",
   "execution_count": null,
   "metadata": {},
   "outputs": [],
   "source": []
  },
  {
   "cell_type": "markdown",
   "metadata": {},
   "source": [
    "# Export train"
   ]
  },
  {
   "cell_type": "code",
   "execution_count": 27,
   "metadata": {},
   "outputs": [],
   "source": [
    "train.to_csv(\"train.csv\",header=True,index=True,index_label='index')"
   ]
  },
  {
   "cell_type": "code",
   "execution_count": null,
   "metadata": {},
   "outputs": [],
   "source": []
  },
  {
   "cell_type": "code",
   "execution_count": 28,
   "metadata": {},
   "outputs": [
    {
     "name": "stdout",
     "output_type": "stream",
     "text": [
      "index,product_id,family_id,subfamily_id,price,block_id,date_number,color_id,size_id,sales,stock\r\n",
      "0,151926,396066037,335531561,25.95,1969,59,909958217,111455099,0,17\r\n",
      "1,151926,396066037,335531561,25.95,1969,59,909958217,242364222,3,63\r\n",
      "2,151926,396066037,335531561,25.95,1969,59,909958217,513017386,1,33\r\n",
      "3,151926,396066037,335531561,25.95,1969,59,909958217,820445075,1,42\r\n",
      "4,151926,396066037,335531561,25.95,1969,60,909958217,54666687,2,72\r\n",
      "5,151926,396066037,335531561,25.95,1969,60,909958217,111455099,2,21\r\n",
      "6,151926,396066037,335531561,25.95,1969,60,909958217,242364222,2,95\r\n",
      "7,151926,396066037,335531561,25.95,1969,60,909958217,513017386,1,46\r\n",
      "8,151926,396066037,335531561,25.95,1969,60,909958217,820445075,3,96\r\n"
     ]
    }
   ],
   "source": [
    "!head train.csv"
   ]
  }
 ],
 "metadata": {
  "kernelspec": {
   "display_name": "Python 3",
   "language": "python",
   "name": "python3"
  },
  "language_info": {
   "codemirror_mode": {
    "name": "ipython",
    "version": 3
   },
   "file_extension": ".py",
   "mimetype": "text/x-python",
   "name": "python",
   "nbconvert_exporter": "python",
   "pygments_lexer": "ipython3",
   "version": "3.6.7"
  }
 },
 "nbformat": 4,
 "nbformat_minor": 2
}
